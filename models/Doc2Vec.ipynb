{
 "metadata": {
  "language_info": {
   "codemirror_mode": {
    "name": "ipython",
    "version": 3
   },
   "file_extension": ".py",
   "mimetype": "text/x-python",
   "name": "python",
   "nbconvert_exporter": "python",
   "pygments_lexer": "ipython3",
   "version": "3.6.9-final"
  },
  "orig_nbformat": 2,
  "kernelspec": {
   "name": "python3",
   "display_name": "Python 3",
   "language": "python"
  }
 },
 "nbformat": 4,
 "nbformat_minor": 2,
 "cells": [
  {
   "source": [
    "# Doc2Vec Modeling\n",
    "\n",
    "The code in the notebook was referenced from [this](https://towardsdatascience.com/multi-class-text-classification-with-doc2vec-logistic-regression-9da9947b43f4) Medium post."
   ],
   "cell_type": "markdown",
   "metadata": {}
  },
  {
   "cell_type": "code",
   "execution_count": 46,
   "metadata": {},
   "outputs": [],
   "source": [
    "# imports\n",
    "import pandas as pd\n",
    "import matplotlib.pyplot as plt\n",
    "from matplotlib import cm\n",
    "import seaborn as sns; sns.set()\n",
    "%matplotlib inline\n",
    "# NLP\n",
    "import nltk\n",
    "from nltk.tokenize import word_tokenize\n",
    "from sklearn.feature_extraction import text \n",
    "from nltk.stem import WordNetLemmatizer \n",
    "from sklearn.feature_extraction.text import CountVectorizer, TfidfVectorizer, TfidfTransformer\n",
    "from nltk.probability import FreqDist\n",
    "from nltk.corpus import stopwords\n",
    "from nltk.stem import PorterStemmer\n",
    "# modeling\n",
    "import sklearn.metrics as metrics\n",
    "from sklearn import metrics, utils\n",
    "from sklearn.naive_bayes import MultinomialNB\n",
    "from sklearn.model_selection import train_test_split, GridSearchCV\n",
    "from gensim.models.doc2vec import Doc2Vec, TaggedDocument\n",
    "from sklearn.svm import LinearSVC\n",
    "from sklearn.linear_model import LogisticRegression\n",
    "# metrics\n",
    "from sklearn import metrics, model_selection, svm\n",
    "from sklearn.metrics import accuracy_score, precision_score, recall_score, f1_score, confusion_matrix, plot_confusion_matrix, roc_curve, auc, classification_report\n",
    "import pickle"
   ]
  },
  {
   "source": [
    "## Importing `clean_df`"
   ],
   "cell_type": "markdown",
   "metadata": {}
  },
  {
   "cell_type": "code",
   "execution_count": 47,
   "metadata": {},
   "outputs": [],
   "source": [
    "clean_df = pd.read_pickle('../pickle/clean_df.pkl')"
   ]
  },
  {
   "cell_type": "code",
   "execution_count": 48,
   "metadata": {},
   "outputs": [
    {
     "output_type": "execute_result",
     "data": {
      "text/plain": [
       "   total_votes  hate_speech_votes  other_votes  label  \\\n",
       "0            3                  0            3      0   \n",
       "1            3                  0            3      0   \n",
       "\n",
       "                                               tweet  \\\n",
       "0  !!! RT @mayasolovely: As a woman you shouldn't...   \n",
       "1  !!!!! RT @mleew17: boy dats cold...tyga dwn ba...   \n",
       "\n",
       "                                        clean_tweets  \n",
       "0     as a woman you shouldnt complain about clea...  \n",
       "1     boy dats coldtyga dwn bad for cuffin dat ho...  "
      ],
      "text/html": "<div>\n<style scoped>\n    .dataframe tbody tr th:only-of-type {\n        vertical-align: middle;\n    }\n\n    .dataframe tbody tr th {\n        vertical-align: top;\n    }\n\n    .dataframe thead th {\n        text-align: right;\n    }\n</style>\n<table border=\"1\" class=\"dataframe\">\n  <thead>\n    <tr style=\"text-align: right;\">\n      <th></th>\n      <th>total_votes</th>\n      <th>hate_speech_votes</th>\n      <th>other_votes</th>\n      <th>label</th>\n      <th>tweet</th>\n      <th>clean_tweets</th>\n    </tr>\n  </thead>\n  <tbody>\n    <tr>\n      <th>0</th>\n      <td>3</td>\n      <td>0</td>\n      <td>3</td>\n      <td>0</td>\n      <td>!!! RT @mayasolovely: As a woman you shouldn't...</td>\n      <td>as a woman you shouldnt complain about clea...</td>\n    </tr>\n    <tr>\n      <th>1</th>\n      <td>3</td>\n      <td>0</td>\n      <td>3</td>\n      <td>0</td>\n      <td>!!!!! RT @mleew17: boy dats cold...tyga dwn ba...</td>\n      <td>boy dats coldtyga dwn bad for cuffin dat ho...</td>\n    </tr>\n  </tbody>\n</table>\n</div>"
     },
     "metadata": {},
     "execution_count": 48
    }
   ],
   "source": [
    "clean_df.head(2)"
   ]
  },
  {
   "source": [
    "## Train-Test Split"
   ],
   "cell_type": "markdown",
   "metadata": {}
  },
  {
   "cell_type": "code",
   "execution_count": 49,
   "metadata": {},
   "outputs": [],
   "source": [
    "doc_train, doc_test = train_test_split(clean_df, test_size=0.3, random_state=42)"
   ]
  },
  {
   "source": [
    "## Preparing the Data"
   ],
   "cell_type": "markdown",
   "metadata": {}
  },
  {
   "cell_type": "code",
   "execution_count": 50,
   "metadata": {},
   "outputs": [],
   "source": [
    "def tokenize_text(text):\n",
    "    tokens = []\n",
    "    for sent in nltk.sent_tokenize(text):\n",
    "        for word in nltk.word_tokenize(sent):\n",
    "            if len(word) < 2:\n",
    "                continue\n",
    "            tokens.append(word.lower())\n",
    "    return tokens"
   ]
  },
  {
   "cell_type": "code",
   "execution_count": 51,
   "metadata": {},
   "outputs": [],
   "source": [
    "tagged_train = doc_train.apply(\n",
    "    lambda r: TaggedDocument(words=tokenize_text(r['clean_tweets']), tags=[r.label]), axis=1)\n",
    "tagged_test = doc_test.apply(\n",
    "    lambda r: TaggedDocument(words=tokenize_text(r['clean_tweets']), tags=[r.label]), axis=1)"
   ]
  },
  {
   "cell_type": "code",
   "execution_count": 52,
   "metadata": {},
   "outputs": [
    {
     "output_type": "execute_result",
     "data": {
      "text/plain": [
       "TaggedDocument(words=['this', 'bitch', 'instating', 'and', 'driving', 'for', 'me'], tags=[0])"
      ]
     },
     "metadata": {},
     "execution_count": 52
    }
   ],
   "source": [
    "tagged_train.values[30]"
   ]
  },
  {
   "source": [
    "## Training DBOW Model\n",
    "\n",
    "This is the Doc2Vec model analogous to Skip-gram model in Word2Vec. Here we can see that training a Doc2Vec model is much more straight forward in Gensim."
   ],
   "cell_type": "markdown",
   "metadata": {}
  },
  {
   "cell_type": "code",
   "execution_count": 53,
   "metadata": {},
   "outputs": [],
   "source": [
    "# train a doc2vec model, using only training data\n",
    "dbow_model = Doc2Vec(vector_size=100, \n",
    "                alpha=0.025, \n",
    "                min_count=5,\n",
    "                dm=1, epochs=100)"
   ]
  },
  {
   "cell_type": "code",
   "execution_count": 54,
   "metadata": {},
   "outputs": [
    {
     "output_type": "stream",
     "name": "stderr",
     "text": [
      "100%|██████████| 17348/17348 [00:00<00:00, 2569942.63it/s]\n"
     ]
    }
   ],
   "source": [
    "from tqdm import tqdm\n",
    "tqdm.pandas(desc=\"progress-bar\")\n",
    "\n",
    "# building vocabulary \n",
    "dbow_model.build_vocab([x for x in tqdm(tagged_train.values)])\n"
   ]
  },
  {
   "cell_type": "code",
   "execution_count": 55,
   "metadata": {},
   "outputs": [
    {
     "output_type": "stream",
     "name": "stderr",
     "text": [
      "100%|██████████| 17348/17348 [00:00<00:00, 2433456.60it/s]\n",
      "100%|██████████| 17348/17348 [00:00<00:00, 3132141.78it/s]\n",
      "100%|██████████| 17348/17348 [00:00<00:00, 2624825.43it/s]\n",
      "100%|██████████| 17348/17348 [00:00<00:00, 3044595.41it/s]\n",
      "100%|██████████| 17348/17348 [00:00<00:00, 2493926.03it/s]\n",
      "100%|██████████| 17348/17348 [00:00<00:00, 3174918.66it/s]\n",
      "100%|██████████| 17348/17348 [00:00<00:00, 2533699.62it/s]\n",
      "100%|██████████| 17348/17348 [00:00<00:00, 2289001.69it/s]\n",
      "100%|██████████| 17348/17348 [00:00<00:00, 2420826.62it/s]\n",
      "100%|██████████| 17348/17348 [00:00<00:00, 3044722.81it/s]\n",
      "100%|██████████| 17348/17348 [00:00<00:00, 2816660.31it/s]\n",
      "100%|██████████| 17348/17348 [00:00<00:00, 2524031.70it/s]\n",
      "100%|██████████| 17348/17348 [00:00<00:00, 3262173.76it/s]\n",
      "100%|██████████| 17348/17348 [00:00<00:00, 2845742.34it/s]\n",
      "100%|██████████| 17348/17348 [00:00<00:00, 2744108.68it/s]\n",
      "100%|██████████| 17348/17348 [00:00<00:00, 2821356.56it/s]\n",
      "100%|██████████| 17348/17348 [00:00<00:00, 3037604.82it/s]\n",
      "100%|██████████| 17348/17348 [00:00<00:00, 2732053.68it/s]\n",
      "100%|██████████| 17348/17348 [00:00<00:00, 3166766.15it/s]\n",
      "100%|██████████| 17348/17348 [00:00<00:00, 2787205.46it/s]\n",
      "100%|██████████| 17348/17348 [00:00<00:00, 2073309.18it/s]\n",
      "100%|██████████| 17348/17348 [00:00<00:00, 2775193.02it/s]\n",
      "100%|██████████| 17348/17348 [00:00<00:00, 2453064.05it/s]\n",
      "100%|██████████| 17348/17348 [00:00<00:00, 3003375.81it/s]\n",
      "100%|██████████| 17348/17348 [00:00<00:00, 3090764.84it/s]\n",
      "100%|██████████| 17348/17348 [00:00<00:00, 3128640.23it/s]\n",
      "100%|██████████| 17348/17348 [00:00<00:00, 2789021.65it/s]\n",
      "100%|██████████| 17348/17348 [00:00<00:00, 2956274.56it/s]\n",
      "100%|██████████| 17348/17348 [00:00<00:00, 3100114.43it/s]\n",
      "100%|██████████| 17348/17348 [00:00<00:00, 2422922.51it/s]\n",
      "CPU times: user 30.2 s, sys: 4.94 s, total: 35.1 s\n",
      "Wall time: 27 s\n"
     ]
    }
   ],
   "source": [
    "%%time\n",
    "# this cell takes about 26 seconds to run\n",
    "for epoch in range(30):\n",
    "    dbow_model.train(utils.shuffle([x for x in tqdm(tagged_train.values)]), total_examples=len(tagged_train.values), epochs=1)\n",
    "    dbow_model.alpha -= 0.002\n",
    "    dbow_model.min_alpha = dbow_model.alpha"
   ]
  },
  {
   "source": [
    "### Building the final vector feature for the classifier"
   ],
   "cell_type": "markdown",
   "metadata": {}
  },
  {
   "cell_type": "code",
   "execution_count": 56,
   "metadata": {},
   "outputs": [],
   "source": [
    "def vec_for_learning(model, tagged_docs):\n",
    "    sents = tagged_docs.values\n",
    "    targets, regressors = zip(*[(doc.tags[0], model.infer_vector(doc.words, steps=20)) for doc in sents])\n",
    "    return targets, regressors"
   ]
  },
  {
   "source": [
    "## Baseline Models"
   ],
   "cell_type": "markdown",
   "metadata": {}
  },
  {
   "cell_type": "code",
   "execution_count": 57,
   "metadata": {},
   "outputs": [],
   "source": [
    "# train-test split\n",
    "y_train, X_train = vec_for_learning(dbow_model, tagged_train)\n",
    "y_test, X_test = vec_for_learning(dbow_model, tagged_test)"
   ]
  },
  {
   "source": [
    "## Logisitic Regression\n",
    "\n",
    "The Logisitic Regression baseline had the highest unweighted F1 score of 0.387805 with the Tf-IDF vectorization method."
   ],
   "cell_type": "markdown",
   "metadata": {}
  },
  {
   "cell_type": "code",
   "execution_count": 58,
   "metadata": {},
   "outputs": [],
   "source": [
    "logreg = LogisticRegression(n_jobs=1, C=1e5)"
   ]
  },
  {
   "cell_type": "code",
   "execution_count": 59,
   "metadata": {},
   "outputs": [
    {
     "output_type": "stream",
     "name": "stdout",
     "text": [
      "CPU times: user 781 ms, sys: 14.7 ms, total: 796 ms\nWall time: 220 ms\n"
     ]
    },
    {
     "output_type": "execute_result",
     "data": {
      "text/plain": [
       "LogisticRegression(C=100000.0, n_jobs=1)"
      ]
     },
     "metadata": {},
     "execution_count": 59
    }
   ],
   "source": [
    "%%time\n",
    "logreg.fit(X_train, y_train)"
   ]
  },
  {
   "cell_type": "code",
   "execution_count": 60,
   "metadata": {},
   "outputs": [],
   "source": [
    "logreg_y_preds = logreg.predict(X_test)"
   ]
  },
  {
   "cell_type": "code",
   "execution_count": 61,
   "metadata": {},
   "outputs": [],
   "source": [
    "logreg_precision = precision_score(y_test, logreg_y_preds)\n",
    "logreg_recall = recall_score(y_test, logreg_y_preds)\n",
    "logreg_f1_score = f1_score(y_test, logreg_y_preds)\n",
    "logreg_f1_weighted = f1_score(y_test, logreg_y_preds, average='weighted')"
   ]
  },
  {
   "cell_type": "code",
   "execution_count": 62,
   "metadata": {},
   "outputs": [
    {
     "output_type": "stream",
     "name": "stdout",
     "text": [
      "Precision: 0.4741\nRecall: 0.1288\nF1 Score: 0.2026\nWeighted F1 Score: 0.9257\n"
     ]
    }
   ],
   "source": [
    "print('Precision: {:.4}'.format(logreg_precision))\n",
    "print('Recall: {:.4}'.format(logreg_recall))\n",
    "print('F1 Score: {:.4}'.format(logreg_f1_score))\n",
    "print('Weighted F1 Score: {:.4}'.format(logreg_f1_weighted))\n"
   ]
  },
  {
   "source": [
    "Looks like using Doc2Vec on a Logistic Regression model really lowers the F1 score, but it gets bumped up if we add the `weighted` parameter.\n",
    "\n",
    "Additionally, this method increased Precision but decreased Recall."
   ],
   "cell_type": "markdown",
   "metadata": {}
  },
  {
   "source": [
    "According to the scikit-learn documentation, a weighted F1 score calculates metrics for each label, and finds their average weighted by support (the number of true instances for each label). **This alters ‘macro’ to account for label imbalance;** it can result in an F-score that is not between precision and recall.\n",
    "\n"
   ],
   "cell_type": "markdown",
   "metadata": {}
  },
  {
   "cell_type": "code",
   "execution_count": 63,
   "metadata": {},
   "outputs": [],
   "source": [
    "# creating dictionary with all metrics\n",
    "metric_dict = {}\n",
    "metric_dict['Baseline Logisitic Regression'] = {'precision': logreg_precision, 'recall': logreg_recall, 'f1_score': logreg_f1_score, 'weighted_f1': logreg_f1_weighted}"
   ]
  },
  {
   "source": [
    "## Support Vector Machine (SVM)\n",
    "The baseline SVM had the highest weighted F1 score of 0.938102 with the Tf-IDF vectorization method.\n",
    "\n"
   ],
   "cell_type": "markdown",
   "metadata": {}
  },
  {
   "cell_type": "code",
   "execution_count": 64,
   "metadata": {},
   "outputs": [],
   "source": [
    "SVM_baseline = svm.SVC(C=1.0, kernel='linear', degree=3, gamma='auto', class_weight='balanced')"
   ]
  },
  {
   "cell_type": "code",
   "execution_count": 65,
   "metadata": {},
   "outputs": [
    {
     "output_type": "stream",
     "name": "stdout",
     "text": [
      "CPU times: user 26.8 s, sys: 352 ms, total: 27.1 s\nWall time: 27.3 s\n"
     ]
    },
    {
     "output_type": "execute_result",
     "data": {
      "text/plain": [
       "SVC(class_weight='balanced', gamma='auto', kernel='linear')"
      ]
     },
     "metadata": {},
     "execution_count": 65
    }
   ],
   "source": [
    "%%time\n",
    "# this cell takes about 26 seconds to run\n",
    "# fit the training dataset on the classifier\n",
    "SVM_baseline.fit(X_train, y_train)"
   ]
  },
  {
   "cell_type": "code",
   "execution_count": 66,
   "metadata": {},
   "outputs": [],
   "source": [
    "# predict the labels on validation dataset\n",
    "SVM_y_preds = SVM_baseline.predict(X_test)"
   ]
  },
  {
   "cell_type": "code",
   "execution_count": 67,
   "metadata": {},
   "outputs": [],
   "source": [
    "SVM_precision = precision_score(y_test, SVM_y_preds)\n",
    "SVM_recall = recall_score(y_test, SVM_y_preds)\n",
    "SVM_f1_score = f1_score(y_test, SVM_y_preds)\n",
    "SVM_f1_weighted = f1_score(y_test, SVM_y_preds, average='weighted')"
   ]
  },
  {
   "cell_type": "code",
   "execution_count": 68,
   "metadata": {},
   "outputs": [
    {
     "output_type": "stream",
     "name": "stdout",
     "text": [
      "Testing Metrics for SVM Baseline with Lemmatization Features\nPrecision: 0.1902\nRecall: 0.6276\nF1 Score: 0.2919\nWeighted F1 Score: 0.8653\n"
     ]
    }
   ],
   "source": [
    "# printing evaluation metrics up to 4th decimal place\n",
    "print('Testing Metrics for SVM Baseline with Lemmatization Features')\n",
    "print('Precision: {:.4}'.format(SVM_precision))\n",
    "print('Recall: {:.4}'.format(SVM_recall))\n",
    "print('F1 Score: {:.4}'.format(SVM_f1_score))\n",
    "print('Weighted F1 Score: {:.4}'.format(SVM_f1_weighted))"
   ]
  },
  {
   "cell_type": "code",
   "execution_count": 69,
   "metadata": {},
   "outputs": [],
   "source": [
    "metric_dict['Baseline SVM'] = {'precision': SVM_precision, 'recall': SVM_recall, 'f1_score': SVM_f1_score, 'weighted_f1': SVM_f1_weighted}"
   ]
  },
  {
   "source": [
    "## Evaluation Metrics"
   ],
   "cell_type": "markdown",
   "metadata": {}
  },
  {
   "cell_type": "code",
   "execution_count": 70,
   "metadata": {},
   "outputs": [
    {
     "output_type": "execute_result",
     "data": {
      "text/plain": [
       "                               precision    recall  f1_score  weighted_f1\n",
       "Baseline Logisitic Regression   0.474138  0.128806  0.202578     0.925716\n",
       "Baseline SVM                    0.190206  0.627635  0.291939     0.865324"
      ],
      "text/html": "<div>\n<style scoped>\n    .dataframe tbody tr th:only-of-type {\n        vertical-align: middle;\n    }\n\n    .dataframe tbody tr th {\n        vertical-align: top;\n    }\n\n    .dataframe thead th {\n        text-align: right;\n    }\n</style>\n<table border=\"1\" class=\"dataframe\">\n  <thead>\n    <tr style=\"text-align: right;\">\n      <th></th>\n      <th>precision</th>\n      <th>recall</th>\n      <th>f1_score</th>\n      <th>weighted_f1</th>\n    </tr>\n  </thead>\n  <tbody>\n    <tr>\n      <th>Baseline Logisitic Regression</th>\n      <td>0.474138</td>\n      <td>0.128806</td>\n      <td>0.202578</td>\n      <td>0.925716</td>\n    </tr>\n    <tr>\n      <th>Baseline SVM</th>\n      <td>0.190206</td>\n      <td>0.627635</td>\n      <td>0.291939</td>\n      <td>0.865324</td>\n    </tr>\n  </tbody>\n</table>\n</div>"
     },
     "metadata": {},
     "execution_count": 70
    }
   ],
   "source": [
    "pd.DataFrame.from_dict(metric_dict, orient='index')"
   ]
  },
  {
   "source": [
    "At first glance, it looks like the SVM model does slightly better with unweighted F1, but the Logisitic Regression model does better with weighted F1.\n",
    "\n"
   ],
   "cell_type": "markdown",
   "metadata": {}
  },
  {
   "cell_type": "code",
   "execution_count": 73,
   "metadata": {},
   "outputs": [
    {
     "output_type": "stream",
     "name": "stdout",
     "text": [
      "              precision    recall  f1-score   support\n\n     class 0       0.95      0.99      0.97      7008\n     class 1       0.47      0.13      0.20       427\n\n    accuracy                           0.94      7435\n   macro avg       0.71      0.56      0.59      7435\nweighted avg       0.92      0.94      0.93      7435\n\n              precision    recall  f1-score   support\n\n     class 0       0.97      0.84      0.90      7008\n     class 1       0.19      0.63      0.29       427\n\n    accuracy                           0.83      7435\n   macro avg       0.58      0.73      0.60      7435\nweighted avg       0.93      0.83      0.87      7435\n\n"
     ]
    }
   ],
   "source": [
    "target_names = ['class 0', 'class 1']\n",
    "# logistic regression baseline\n",
    "print(classification_report(y_test, logreg_y_preds, target_names=target_names))\n",
    "# SVM baseline\n",
    "print(classification_report(y_test, SVM_y_preds, target_names=target_names))"
   ]
  },
  {
   "source": [
    "However, it's important to note that the Doc2Vec method may be performing worse than the Tf-IDF method. We can try grid searching to improve this.\n"
   ],
   "cell_type": "markdown",
   "metadata": {}
  }
 ]
}