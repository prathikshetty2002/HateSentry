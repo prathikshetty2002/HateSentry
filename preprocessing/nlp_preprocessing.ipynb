{
 "metadata": {
  "language_info": {
   "codemirror_mode": {
    "name": "ipython",
    "version": 3
   },
   "file_extension": ".py",
   "mimetype": "text/x-python",
   "name": "python",
   "nbconvert_exporter": "python",
   "pygments_lexer": "ipython3",
   "version": "3.6.9-final"
  },
  "orig_nbformat": 2,
  "kernelspec": {
   "name": "learn-env",
   "display_name": "learn-env",
   "language": "python"
  }
 },
 "nbformat": 4,
 "nbformat_minor": 2,
 "cells": [
  {
   "source": [
    "# Preprocessing Text Data\n",
    "\n",
    "The purpose of this notebook is to conduct the preprocessing steps that are necessary for text data in NLP. This includes tokenizing, removing stop words, vectorizing, etc."
   ],
   "cell_type": "markdown",
   "metadata": {}
  },
  {
   "cell_type": "code",
   "execution_count": 58,
   "metadata": {},
   "outputs": [],
   "source": [
    "import numpy as np\n",
    "import pandas as pd\n",
    "import matplotlib.pyplot as plt\n",
    "from matplotlib import cm\n",
    "import seaborn as sns; sns.set()\n",
    "%matplotlib inline\n",
    "# packages for NLP preprocessing\n",
    "import nltk\n",
    "from sklearn.feature_extraction import text \n",
    "from nltk.stem import WordNetLemmatizer \n",
    "from nltk.probability import FreqDist\n",
    "from nltk.corpus import stopwords\n",
    "from nltk.stem import PorterStemmer\n",
    "from nltk.collocations import *\n",
    "import pickle"
   ]
  },
  {
   "source": [
    "### Loading in the clean dataframe from `data_cleaning.ipynb`\n"
   ],
   "cell_type": "markdown",
   "metadata": {}
  },
  {
   "cell_type": "code",
   "execution_count": 59,
   "metadata": {},
   "outputs": [],
   "source": [
    "# this is our corpus\n",
    "clean_df = pd.read_pickle('../pickle/clean_df.pkl')"
   ]
  },
  {
   "cell_type": "code",
   "execution_count": 60,
   "metadata": {},
   "outputs": [
    {
     "output_type": "execute_result",
     "data": {
      "text/plain": [
       "   total_votes  hate_speech_votes  other_votes  label  \\\n",
       "0            3                  0            3      0   \n",
       "1            3                  0            3      0   \n",
       "2            3                  0            3      0   \n",
       "3            3                  0            3      0   \n",
       "4            6                  0            6      0   \n",
       "\n",
       "                                               tweet  \\\n",
       "0  !!! RT @mayasolovely: As a woman you shouldn't...   \n",
       "1  !!!!! RT @mleew17: boy dats cold...tyga dwn ba...   \n",
       "2  !!!!!!! RT @UrKindOfBrand Dawg!!!! RT @80sbaby...   \n",
       "3  !!!!!!!!! RT @C_G_Anderson: @viva_based she lo...   \n",
       "4  !!!!!!!!!!!!! RT @ShenikaRoberts: The shit you...   \n",
       "\n",
       "                                        clean_tweets  \n",
       "0     as a woman you shouldnt complain about clea...  \n",
       "1     boy dats coldtyga dwn bad for cuffin dat ho...  \n",
       "2     dawg   you ever fuck a bitch and she sta to...  \n",
       "3                             she look like a tranny  \n",
       "4     the shit you hear about me might be true or...  "
      ],
      "text/html": "<div>\n<style scoped>\n    .dataframe tbody tr th:only-of-type {\n        vertical-align: middle;\n    }\n\n    .dataframe tbody tr th {\n        vertical-align: top;\n    }\n\n    .dataframe thead th {\n        text-align: right;\n    }\n</style>\n<table border=\"1\" class=\"dataframe\">\n  <thead>\n    <tr style=\"text-align: right;\">\n      <th></th>\n      <th>total_votes</th>\n      <th>hate_speech_votes</th>\n      <th>other_votes</th>\n      <th>label</th>\n      <th>tweet</th>\n      <th>clean_tweets</th>\n    </tr>\n  </thead>\n  <tbody>\n    <tr>\n      <th>0</th>\n      <td>3</td>\n      <td>0</td>\n      <td>3</td>\n      <td>0</td>\n      <td>!!! RT @mayasolovely: As a woman you shouldn't...</td>\n      <td>as a woman you shouldnt complain about clea...</td>\n    </tr>\n    <tr>\n      <th>1</th>\n      <td>3</td>\n      <td>0</td>\n      <td>3</td>\n      <td>0</td>\n      <td>!!!!! RT @mleew17: boy dats cold...tyga dwn ba...</td>\n      <td>boy dats coldtyga dwn bad for cuffin dat ho...</td>\n    </tr>\n    <tr>\n      <th>2</th>\n      <td>3</td>\n      <td>0</td>\n      <td>3</td>\n      <td>0</td>\n      <td>!!!!!!! RT @UrKindOfBrand Dawg!!!! RT @80sbaby...</td>\n      <td>dawg   you ever fuck a bitch and she sta to...</td>\n    </tr>\n    <tr>\n      <th>3</th>\n      <td>3</td>\n      <td>0</td>\n      <td>3</td>\n      <td>0</td>\n      <td>!!!!!!!!! RT @C_G_Anderson: @viva_based she lo...</td>\n      <td>she look like a tranny</td>\n    </tr>\n    <tr>\n      <th>4</th>\n      <td>6</td>\n      <td>0</td>\n      <td>6</td>\n      <td>0</td>\n      <td>!!!!!!!!!!!!! RT @ShenikaRoberts: The shit you...</td>\n      <td>the shit you hear about me might be true or...</td>\n    </tr>\n  </tbody>\n</table>\n</div>"
     },
     "metadata": {},
     "execution_count": 60
    }
   ],
   "source": [
    "clean_df.head()"
   ]
  },
  {
   "source": [
    "### Creating `tweet_df` with only cleaned tweets column"
   ],
   "cell_type": "markdown",
   "metadata": {}
  },
  {
   "cell_type": "code",
   "execution_count": 61,
   "metadata": {},
   "outputs": [],
   "source": [
    "tweet_df = clean_df[['clean_tweets', 'label']].copy()"
   ]
  },
  {
   "cell_type": "code",
   "execution_count": 62,
   "metadata": {},
   "outputs": [
    {
     "output_type": "execute_result",
     "data": {
      "text/plain": [
       "                                        clean_tweets  label\n",
       "0     as a woman you shouldnt complain about clea...      0\n",
       "1     boy dats coldtyga dwn bad for cuffin dat ho...      0\n",
       "2     dawg   you ever fuck a bitch and she sta to...      0\n",
       "3                             she look like a tranny      0\n",
       "4     the shit you hear about me might be true or...      0"
      ],
      "text/html": "<div>\n<style scoped>\n    .dataframe tbody tr th:only-of-type {\n        vertical-align: middle;\n    }\n\n    .dataframe tbody tr th {\n        vertical-align: top;\n    }\n\n    .dataframe thead th {\n        text-align: right;\n    }\n</style>\n<table border=\"1\" class=\"dataframe\">\n  <thead>\n    <tr style=\"text-align: right;\">\n      <th></th>\n      <th>clean_tweets</th>\n      <th>label</th>\n    </tr>\n  </thead>\n  <tbody>\n    <tr>\n      <th>0</th>\n      <td>as a woman you shouldnt complain about clea...</td>\n      <td>0</td>\n    </tr>\n    <tr>\n      <th>1</th>\n      <td>boy dats coldtyga dwn bad for cuffin dat ho...</td>\n      <td>0</td>\n    </tr>\n    <tr>\n      <th>2</th>\n      <td>dawg   you ever fuck a bitch and she sta to...</td>\n      <td>0</td>\n    </tr>\n    <tr>\n      <th>3</th>\n      <td>she look like a tranny</td>\n      <td>0</td>\n    </tr>\n    <tr>\n      <th>4</th>\n      <td>the shit you hear about me might be true or...</td>\n      <td>0</td>\n    </tr>\n  </tbody>\n</table>\n</div>"
     },
     "metadata": {},
     "execution_count": 62
    }
   ],
   "source": [
    "tweet_df.head()"
   ]
  },
  {
   "cell_type": "code",
   "execution_count": 63,
   "metadata": {},
   "outputs": [],
   "source": [
    "data = tweet_df['clean_tweets']\n",
    "target = tweet_df['label']"
   ]
  },
  {
   "source": [
    "## Tokenizing Before Removing Stop Words"
   ],
   "cell_type": "markdown",
   "metadata": {}
  },
  {
   "source": [
    "When working with text data, one of the first steps is to remove stop words from the corpus. Although text would be gramatically incorrect without these stop words, they provide little value to models and typically hinder performace.\n",
    "\n",
    "Before removing stop words, let's take a look at the top words in this corpus."
   ],
   "cell_type": "markdown",
   "metadata": {}
  },
  {
   "cell_type": "code",
   "execution_count": 64,
   "metadata": {},
   "outputs": [],
   "source": [
    "# function to tokenize without removing stop words\n",
    "def unfiltered_tokens(text):\n",
    "    dirty_tokens = nltk.word_tokenize(text)\n",
    "    return dirty_tokens"
   ]
  },
  {
   "cell_type": "code",
   "execution_count": 65,
   "metadata": {},
   "outputs": [],
   "source": [
    "# applying this function to the `clean_tweets` column\n",
    "unfilterd_data = list(map(unfiltered_tokens, data))"
   ]
  },
  {
   "cell_type": "code",
   "execution_count": 66,
   "metadata": {},
   "outputs": [],
   "source": [
    "# morphing `unfiltered_data` into a readable list\n",
    "flat_unfiltered = [item for sublist in unfilterd_data for item in sublist]"
   ]
  },
  {
   "cell_type": "code",
   "execution_count": 67,
   "metadata": {},
   "outputs": [
    {
     "output_type": "execute_result",
     "data": {
      "text/plain": [
       "[('a', 9476),\n",
       " ('bitch', 8227),\n",
       " ('i', 7538),\n",
       " ('the', 7168),\n",
       " ('you', 6120),\n",
       " ('to', 5332),\n",
       " ('and', 3951),\n",
       " ('my', 3579),\n",
       " ('that', 3528),\n",
       " ('bitches', 3083),\n",
       " ('in', 3051),\n",
       " ('is', 2909),\n",
       " ('like', 2766),\n",
       " ('me', 2764),\n",
       " ('of', 2544),\n",
       " ('on', 2518),\n",
       " ('be', 2375),\n",
       " ('hoes', 2368),\n",
       " ('this', 2149),\n",
       " ('for', 2119)]"
      ]
     },
     "metadata": {},
     "execution_count": 67
    }
   ],
   "source": [
    "# getting frequency distribution\n",
    "dirty_corpus_freqdist = FreqDist(flat_unfiltered)\n",
    "# top 20 words in the corpus\n",
    "dirty_corpus_freqdist.most_common(20)"
   ]
  },
  {
   "source": [
    "We can see that stop words typically dominate the top spots. Such as 'a', 'i', 'the', 'to', etc. But this tells us nothing about the actual content of the corpus, and will negatively impact model performance.\n",
    "\n",
    "Let's actually remove the stop words now."
   ],
   "cell_type": "markdown",
   "metadata": {}
  },
  {
   "source": [
    "## Removing Stop Words in Tokenization\n",
    "We can use NLTK's built-in library of stop words to remove them in a tokenizing function."
   ],
   "cell_type": "markdown",
   "metadata": {}
  },
  {
   "cell_type": "code",
   "execution_count": 68,
   "metadata": {},
   "outputs": [],
   "source": [
    "stop_words = set(stopwords.words('english'))"
   ]
  },
  {
   "cell_type": "code",
   "execution_count": 69,
   "metadata": {},
   "outputs": [],
   "source": [
    "def process_tweet(text):\n",
    "    tokens = nltk.word_tokenize(text)\n",
    "    stopwords_removed = [token.lower() for token in tokens if token.lower() not in stop_words]\n",
    "    return stopwords_removed "
   ]
  },
  {
   "cell_type": "code",
   "execution_count": 70,
   "metadata": {},
   "outputs": [],
   "source": [
    "# applying the above function to our data/features \n",
    "processed_data = list(map(process_tweet, data))"
   ]
  },
  {
   "cell_type": "code",
   "execution_count": 71,
   "metadata": {},
   "outputs": [
    {
     "output_type": "execute_result",
     "data": {
      "text/plain": [
       "20277"
      ]
     },
     "metadata": {},
     "execution_count": 71
    }
   ],
   "source": [
    "total_vocab = set()\n",
    "for comment in processed_data:\n",
    "    total_vocab.update(comment)\n",
    "len(total_vocab)"
   ]
  },
  {
   "cell_type": "code",
   "execution_count": 194,
   "metadata": {},
   "outputs": [],
   "source": [
    "# pickling procesed_data for later use\n",
    "pickle_out = open('../pickle/processed_data.pkl','wb')\n",
    "pickle.dump(processed_data, pickle_out)\n",
    "pickle_out.close()"
   ]
  },
  {
   "source": [
    "Here we can see that our corpus has a vocabulary of 20277. This would also be the number of columns in the sparse matrix after we vectorize the data later."
   ],
   "cell_type": "markdown",
   "metadata": {}
  },
  {
   "source": [
    "Now that the stop words are removed and the corpus is tokenized, let's take a look at the top words in this corpus."
   ],
   "cell_type": "markdown",
   "metadata": {}
  },
  {
   "cell_type": "code",
   "execution_count": 72,
   "metadata": {},
   "outputs": [
    {
     "output_type": "execute_result",
     "data": {
      "text/plain": [
       "[('bitch', 8227),\n",
       " ('bitches', 3083),\n",
       " ('like', 2766),\n",
       " ('hoes', 2368),\n",
       " ('pussy', 2099),\n",
       " ('im', 2061),\n",
       " ('hoe', 1906),\n",
       " ('dont', 1749),\n",
       " ('got', 1597),\n",
       " ('ass', 1570),\n",
       " ('get', 1428),\n",
       " ('fuck', 1411),\n",
       " ('u', 1280),\n",
       " ('shit', 1262),\n",
       " ('nigga', 1198),\n",
       " ('aint', 1158),\n",
       " ('trash', 1142),\n",
       " ('lol', 1074),\n",
       " ('know', 806),\n",
       " ('niggas', 791)]"
      ]
     },
     "metadata": {},
     "execution_count": 72
    }
   ],
   "source": [
    "# morphing `processed_data` into a readable list\n",
    "flat_filtered = [item for sublist in processed_data for item in sublist]\n",
    "# getting frequency distribution\n",
    "clean_corpus_freqdist = FreqDist(flat_filtered)\n",
    "# top 20 words in cleaned corpus\n",
    "clean_corpus_freqdist.most_common(20)"
   ]
  },
  {
   "source": [
    "We can see that the \"meaningless\" stop words have been removed from the corpus. Some of the words here are still up for debate, but let's run this data through some baseline models and see how they perform."
   ],
   "cell_type": "markdown",
   "metadata": {}
  },
  {
   "source": [
    "## Lemmatization\n",
    "\n",
    "This last method reduces each word into a linguistically valid **lemma**, or root word. It does this through linguistic mappings, using the WordNet lexical database.\n"
   ],
   "cell_type": "markdown",
   "metadata": {}
  },
  {
   "cell_type": "code",
   "execution_count": 73,
   "metadata": {},
   "outputs": [],
   "source": [
    "# creating a list with all lemmatized outputs\n",
    "lemmatizer = WordNetLemmatizer() \n",
    "lemmatized_output = []\n",
    "\n",
    "for listy in processed_data:\n",
    "    lemmed = ' '.join([lemmatizer.lemmatize(w) for w in listy])\n",
    "    lemmatized_output.append(lemmed)"
   ]
  },
  {
   "cell_type": "code",
   "execution_count": 74,
   "metadata": {},
   "outputs": [],
   "source": [
    "X_lem = lemmatized_output\n",
    "y_lem = target"
   ]
  },
  {
   "source": [
    "# pickle these for modeling\n",
    "pickle_out = open('../pickle/X_lem.pkl','wb')\n",
    "pickle.dump(X_lem, pickle_out)\n",
    "pickle_out.close()"
   ],
   "cell_type": "code",
   "metadata": {},
   "execution_count": 75,
   "outputs": []
  },
  {
   "cell_type": "code",
   "execution_count": 76,
   "metadata": {},
   "outputs": [],
   "source": [
    "y_lem.to_pickle('../pickle/y_lem.pkl')"
   ]
  },
  {
   "source": [
    "### Now `X_lem` and `y_lem` are ready to be brought over to the modeling notebooks."
   ],
   "cell_type": "markdown",
   "metadata": {}
  },
  {
   "source": [
    "## Additional Corpus EDA - Creating Bigrams\n",
    "\n",
    "Knowing individual word frequencies is somewhat informative, but in practice, some of these tokens are actually parts of larger phrases that should be treated as a single unit. Let's create some bigrams, and see which combinations of words are most telling."
   ],
   "cell_type": "markdown",
   "metadata": {}
  },
  {
   "cell_type": "code",
   "execution_count": 77,
   "metadata": {},
   "outputs": [],
   "source": [
    "bigram_measures = nltk.collocations.BigramAssocMeasures()"
   ]
  },
  {
   "cell_type": "code",
   "execution_count": 78,
   "metadata": {},
   "outputs": [],
   "source": [
    "# creating a finder & passing in tokenized corpus\n",
    "bigram_finder = BigramCollocationFinder.from_words(flat_filtered)"
   ]
  },
  {
   "cell_type": "code",
   "execution_count": 79,
   "metadata": {},
   "outputs": [],
   "source": [
    "# computing bigram scores\n",
    "corpus_scored = bigram_finder.score_ngrams(bigram_measures.raw_freq)"
   ]
  },
  {
   "cell_type": "code",
   "execution_count": 80,
   "metadata": {},
   "outputs": [
    {
     "output_type": "execute_result",
     "data": {
      "text/plain": [
       "[(('wan', 'na'), 0.0018295365531745946),\n",
       " (('got', 'ta'), 0.001657849838507184),\n",
       " (('gon', 'na'), 0.0015666412713401222),\n",
       " (('bitch', 'ass'), 0.0012769199403388667),\n",
       " (('like', 'bitch'), 0.0011910765830051614),\n",
       " (('bitch', 'im'), 0.001169615743671735),\n",
       " (('look', 'like'), 0.0010837723863380297),\n",
       " (('ass', 'bitch'), 0.0010730419666713166),\n",
       " (('yo', 'bitch'), 0.0010301202880044638),\n",
       " (('bad', 'bitch'), 0.0009711029798375415),\n",
       " (('bitch', 'dont'), 0.0009603725601708283),\n",
       " (('bad', 'bitches'), 0.0007672250061699913),\n",
       " (('bitch', 'bitch'), 0.0007618597963366347),\n",
       " (('ass', 'nigga'), 0.0007135729078364255),\n",
       " (('hoes', 'aint'), 0.0006921120685029991),\n",
       " (('bitch', 'got'), 0.000681381648836286),\n",
       " (('fuck', 'bitch'), 0.000681381648836286),\n",
       " (('bitch', 'aint'), 0.0006706512291695728),\n",
       " (('little', 'bitch'), 0.0006652860193362163),\n",
       " (('bitch', 'nigga'), 0.0005687122423357978)]"
      ]
     },
     "metadata": {},
     "execution_count": 80
    }
   ],
   "source": [
    "# top 20 bigrams\n",
    "corpus_scored[:20]"
   ]
  },
  {
   "source": [
    "Is seems that most of these are nonsensical phrases, and may indicate that the data is still dirty. Next, we can use mutual information scores to show us the \"best\" bigrams."
   ],
   "cell_type": "markdown",
   "metadata": {}
  },
  {
   "source": [
    "## Calculating Mutual Information Scores\n",
    "\n",
    "Pointwise Mutual Information Score is a statistical measure from information theory that generally measures the mutual dependence between two words. In plain english, this measures how much information the bigram itself contains by computing the dependence between the two words in the bigram. \n"
   ],
   "cell_type": "markdown",
   "metadata": {}
  },
  {
   "cell_type": "code",
   "execution_count": 81,
   "metadata": {},
   "outputs": [],
   "source": [
    "# creating a finder for pmi & passing in torkenized corpus\n",
    "pmi_finder = BigramCollocationFinder.from_words(flat_filtered)"
   ]
  },
  {
   "cell_type": "code",
   "execution_count": 82,
   "metadata": {},
   "outputs": [],
   "source": [
    "# applying frequency filter that only examines bigrams that occur more than 5 times\n",
    "pmi_finder.apply_freq_filter(5)"
   ]
  },
  {
   "cell_type": "code",
   "execution_count": 83,
   "metadata": {},
   "outputs": [],
   "source": [
    "# using finder to calculate pmi scores\n",
    "pmi_scored = pmi_finder.score_ngrams(bigram_measures.pmi)"
   ]
  },
  {
   "cell_type": "code",
   "execution_count": 84,
   "metadata": {},
   "outputs": [
    {
     "output_type": "execute_result",
     "data": {
      "text/plain": [
       "[(('wishy', 'washy'), 14.922971472714778),\n",
       " (('dej', 'loaf'), 14.70057905137833),\n",
       " (('disrupts', 'shylock'), 14.700579051378327),\n",
       " (('operation', 'disrupts'), 14.700579051378327),\n",
       " (('shylock', 'banking'), 14.700579051378327),\n",
       " (('aux', 'cord'), 14.507933973435932),\n",
       " (('cargos', 'haircut'), 14.507933973435932),\n",
       " (('spear', 'chucker'), 14.507933973435932),\n",
       " (('trey', 'songz'), 14.507933973435932),\n",
       " (('sweetest', 'joy'), 13.922971472714778),\n",
       " (('coloured', 'cargos'), 13.922971472714774),\n",
       " (('plot', 'twist'), 13.855857276856236),\n",
       " (('khaki', 'coloured'), 13.659937066880982),\n",
       " (('justin', 'bieber'), 13.585101833958394),\n",
       " (('revenge', 'sweetest'), 13.49001206543867),\n",
       " (('miley', 'cyrus'), 13.282967608435657),\n",
       " (('scally', 'lad'), 13.218427356240948),\n",
       " (('sloppy', 'toppy'), 13.186005878548569),\n",
       " (('rated', 'spa'), 13.11561655065717),\n",
       " (('twitpic', 'selfie'), 13.070528661128636),\n",
       " (('grand', 'opening'), 13.016080877106258),\n",
       " (('merry', 'christmas'), 12.963613457212123),\n",
       " (('nicki', 'minaj'), 12.963613457212123),\n",
       " (('ling', 'ling'), 12.922971472714778),\n",
       " (('guinea', 'pig'), 12.852582144823376),\n",
       " (('fairy', 'tale'), 12.761979596042472),\n",
       " (('feather', 'flock'), 12.683505538019388),\n",
       " (('catches', 'worm'), 12.630189723486929),\n",
       " (('shy', 'glizzy'), 12.553737663049057),\n",
       " (('nappy', 'headed'), 12.523040865826143)]"
      ]
     },
     "metadata": {},
     "execution_count": 84
    }
   ],
   "source": [
    "# first 30 elements in this list\n",
    "pmi_scored[:30]"
   ]
  },
  {
   "source": [
    "These are the top 30 bigrams, according to PMI score. Most of these are identifiable as English slang terms. Def Loaf is an american rapper, and Shylock is a malware that targets banks.\n",
    "\n",
    "We can impliment bigrams into models using `ngram_range` during the TF-IDF vectorization stage. From there, we can start running some baseline models to see how they perform with this data."
   ],
   "cell_type": "markdown",
   "metadata": {}
  },
  {
   "cell_type": "code",
   "execution_count": 133,
   "metadata": {},
   "outputs": [],
   "source": [
    "bigrams_list = pmi_scored[:30]"
   ]
  },
  {
   "cell_type": "code",
   "execution_count": 134,
   "metadata": {},
   "outputs": [
    {
     "output_type": "execute_result",
     "data": {
      "text/plain": [
       "[(('wishy', 'washy'), 14.922971472714778),\n",
       " (('dej', 'loaf'), 14.70057905137833),\n",
       " (('disrupts', 'shylock'), 14.700579051378327),\n",
       " (('operation', 'disrupts'), 14.700579051378327),\n",
       " (('shylock', 'banking'), 14.700579051378327),\n",
       " (('aux', 'cord'), 14.507933973435932),\n",
       " (('cargos', 'haircut'), 14.507933973435932),\n",
       " (('spear', 'chucker'), 14.507933973435932),\n",
       " (('trey', 'songz'), 14.507933973435932),\n",
       " (('sweetest', 'joy'), 13.922971472714778),\n",
       " (('coloured', 'cargos'), 13.922971472714774),\n",
       " (('plot', 'twist'), 13.855857276856236),\n",
       " (('khaki', 'coloured'), 13.659937066880982),\n",
       " (('justin', 'bieber'), 13.585101833958394),\n",
       " (('revenge', 'sweetest'), 13.49001206543867),\n",
       " (('miley', 'cyrus'), 13.282967608435657),\n",
       " (('scally', 'lad'), 13.218427356240948),\n",
       " (('sloppy', 'toppy'), 13.186005878548569),\n",
       " (('rated', 'spa'), 13.11561655065717),\n",
       " (('twitpic', 'selfie'), 13.070528661128636),\n",
       " (('grand', 'opening'), 13.016080877106258),\n",
       " (('merry', 'christmas'), 12.963613457212123),\n",
       " (('nicki', 'minaj'), 12.963613457212123),\n",
       " (('ling', 'ling'), 12.922971472714778),\n",
       " (('guinea', 'pig'), 12.852582144823376),\n",
       " (('fairy', 'tale'), 12.761979596042472),\n",
       " (('feather', 'flock'), 12.683505538019388),\n",
       " (('catches', 'worm'), 12.630189723486929),\n",
       " (('shy', 'glizzy'), 12.553737663049057),\n",
       " (('nappy', 'headed'), 12.523040865826143)]"
      ]
     },
     "metadata": {},
     "execution_count": 134
    }
   ],
   "source": [
    "bigrams_list"
   ]
  },
  {
   "source": [
    "## Visualizing Bigram Frequency"
   ],
   "cell_type": "markdown",
   "metadata": {}
  },
  {
   "cell_type": "code",
   "execution_count": 166,
   "metadata": {},
   "outputs": [],
   "source": [
    "bigrams_series = (pd.Series(nltk.ngrams(flat_filtered, 2)).value_counts())[:20]"
   ]
  },
  {
   "cell_type": "code",
   "execution_count": 195,
   "metadata": {},
   "outputs": [
    {
     "output_type": "execute_result",
     "data": {
      "text/plain": [
       "Text(0.5, 0, 'Number of Occurances')"
      ]
     },
     "metadata": {},
     "execution_count": 195
    },
    {
     "output_type": "display_data",
     "data": {
      "text/plain": "<Figure size 864x576 with 1 Axes>",
      "image/svg+xml": "<?xml version=\"1.0\" encoding=\"utf-8\" standalone=\"no\"?>\n<!DOCTYPE svg PUBLIC \"-//W3C//DTD SVG 1.1//EN\"\n  \"http://www.w3.org/Graphics/SVG/1.1/DTD/svg11.dtd\">\n<!-- Created with matplotlib (https://matplotlib.org/) -->\n<svg height=\"508.416094pt\" version=\"1.1\" viewBox=\"0 0 780.811875 508.416094\" width=\"780.811875pt\" xmlns=\"http://www.w3.org/2000/svg\" xmlns:xlink=\"http://www.w3.org/1999/xlink\">\n <defs>\n  <style type=\"text/css\">\n*{stroke-linecap:butt;stroke-linejoin:round;}\n  </style>\n </defs>\n <g id=\"figure_1\">\n  <g id=\"patch_1\">\n   <path d=\"M -0 508.416094 \nL 780.811875 508.416094 \nL 780.811875 0 \nL -0 0 \nz\n\" style=\"fill:none;\"/>\n  </g>\n  <g id=\"axes_1\">\n   <g id=\"patch_2\">\n    <path d=\"M 104.011875 461.194687 \nL 773.611875 461.194687 \nL 773.611875 26.314687 \nL 104.011875 26.314687 \nz\n\" style=\"fill:#eaeaf2;\"/>\n   </g>\n   <g id=\"matplotlib.axis_1\">\n    <g id=\"xtick_1\">\n     <g id=\"line2d_1\">\n      <path clip-path=\"url(#p56f846d291)\" d=\"M 104.011875 461.194687 \nL 104.011875 26.314687 \n\" style=\"fill:none;stroke:#ffffff;stroke-linecap:round;\"/>\n     </g>\n     <g id=\"text_1\">\n      <!-- 0 -->\n      <defs>\n       <path d=\"M 4.15625 35.296875 \nQ 4.15625 48 6.765625 55.734375 \nQ 9.375 63.484375 14.515625 67.671875 \nQ 19.671875 71.875 27.484375 71.875 \nQ 33.25 71.875 37.59375 69.546875 \nQ 41.9375 67.234375 44.765625 62.859375 \nQ 47.609375 58.5 49.21875 52.21875 \nQ 50.828125 45.953125 50.828125 35.296875 \nQ 50.828125 22.703125 48.234375 14.96875 \nQ 45.65625 7.234375 40.5 3 \nQ 35.359375 -1.21875 27.484375 -1.21875 \nQ 17.140625 -1.21875 11.234375 6.203125 \nQ 4.15625 15.140625 4.15625 35.296875 \nz\nM 13.1875 35.296875 \nQ 13.1875 17.671875 17.3125 11.828125 \nQ 21.4375 6 27.484375 6 \nQ 33.546875 6 37.671875 11.859375 \nQ 41.796875 17.71875 41.796875 35.296875 \nQ 41.796875 52.984375 37.671875 58.78125 \nQ 33.546875 64.59375 27.390625 64.59375 \nQ 21.34375 64.59375 17.71875 59.46875 \nQ 13.1875 52.9375 13.1875 35.296875 \nz\n\" id=\"ArialMT-48\"/>\n      </defs>\n      <g style=\"fill:#262626;\" transform=\"translate(100.953359 478.568281)scale(0.11 -0.11)\">\n       <use xlink:href=\"#ArialMT-48\"/>\n      </g>\n     </g>\n    </g>\n    <g id=\"xtick_2\">\n     <g id=\"line2d_2\">\n      <path clip-path=\"url(#p56f846d291)\" d=\"M 197.518369 461.194687 \nL 197.518369 26.314687 \n\" style=\"fill:none;stroke:#ffffff;stroke-linecap:round;\"/>\n     </g>\n     <g id=\"text_2\">\n      <!-- 50 -->\n      <defs>\n       <path d=\"M 4.15625 18.75 \nL 13.375 19.53125 \nQ 14.40625 12.796875 18.140625 9.390625 \nQ 21.875 6 27.15625 6 \nQ 33.5 6 37.890625 10.78125 \nQ 42.28125 15.578125 42.28125 23.484375 \nQ 42.28125 31 38.0625 35.34375 \nQ 33.84375 39.703125 27 39.703125 \nQ 22.75 39.703125 19.328125 37.765625 \nQ 15.921875 35.84375 13.96875 32.765625 \nL 5.71875 33.84375 \nL 12.640625 70.609375 \nL 48.25 70.609375 \nL 48.25 62.203125 \nL 19.671875 62.203125 \nL 15.828125 42.96875 \nQ 22.265625 47.46875 29.34375 47.46875 \nQ 38.71875 47.46875 45.15625 40.96875 \nQ 51.609375 34.46875 51.609375 24.265625 \nQ 51.609375 14.546875 45.953125 7.46875 \nQ 39.0625 -1.21875 27.15625 -1.21875 \nQ 17.390625 -1.21875 11.203125 4.25 \nQ 5.03125 9.71875 4.15625 18.75 \nz\n\" id=\"ArialMT-53\"/>\n      </defs>\n      <g style=\"fill:#262626;\" transform=\"translate(191.401337 478.568281)scale(0.11 -0.11)\">\n       <use xlink:href=\"#ArialMT-53\"/>\n       <use x=\"55.615234\" xlink:href=\"#ArialMT-48\"/>\n      </g>\n     </g>\n    </g>\n    <g id=\"xtick_3\">\n     <g id=\"line2d_3\">\n      <path clip-path=\"url(#p56f846d291)\" d=\"M 291.024862 461.194687 \nL 291.024862 26.314687 \n\" style=\"fill:none;stroke:#ffffff;stroke-linecap:round;\"/>\n     </g>\n     <g id=\"text_3\">\n      <!-- 100 -->\n      <defs>\n       <path d=\"M 37.25 0 \nL 28.46875 0 \nL 28.46875 56 \nQ 25.296875 52.984375 20.140625 49.953125 \nQ 14.984375 46.921875 10.890625 45.40625 \nL 10.890625 53.90625 \nQ 18.265625 57.375 23.78125 62.296875 \nQ 29.296875 67.234375 31.59375 71.875 \nL 37.25 71.875 \nz\n\" id=\"ArialMT-49\"/>\n      </defs>\n      <g style=\"fill:#262626;\" transform=\"translate(281.849315 478.568281)scale(0.11 -0.11)\">\n       <use xlink:href=\"#ArialMT-49\"/>\n       <use x=\"55.615234\" xlink:href=\"#ArialMT-48\"/>\n       <use x=\"111.230469\" xlink:href=\"#ArialMT-48\"/>\n      </g>\n     </g>\n    </g>\n    <g id=\"xtick_4\">\n     <g id=\"line2d_4\">\n      <path clip-path=\"url(#p56f846d291)\" d=\"M 384.531356 461.194687 \nL 384.531356 26.314687 \n\" style=\"fill:none;stroke:#ffffff;stroke-linecap:round;\"/>\n     </g>\n     <g id=\"text_4\">\n      <!-- 150 -->\n      <g style=\"fill:#262626;\" transform=\"translate(375.355809 478.568281)scale(0.11 -0.11)\">\n       <use xlink:href=\"#ArialMT-49\"/>\n       <use x=\"55.615234\" xlink:href=\"#ArialMT-53\"/>\n       <use x=\"111.230469\" xlink:href=\"#ArialMT-48\"/>\n      </g>\n     </g>\n    </g>\n    <g id=\"xtick_5\">\n     <g id=\"line2d_5\">\n      <path clip-path=\"url(#p56f846d291)\" d=\"M 478.037849 461.194687 \nL 478.037849 26.314687 \n\" style=\"fill:none;stroke:#ffffff;stroke-linecap:round;\"/>\n     </g>\n     <g id=\"text_5\">\n      <!-- 200 -->\n      <defs>\n       <path d=\"M 50.34375 8.453125 \nL 50.34375 0 \nL 3.03125 0 \nQ 2.9375 3.171875 4.046875 6.109375 \nQ 5.859375 10.9375 9.828125 15.625 \nQ 13.8125 20.3125 21.34375 26.46875 \nQ 33.015625 36.03125 37.109375 41.625 \nQ 41.21875 47.21875 41.21875 52.203125 \nQ 41.21875 57.421875 37.46875 61 \nQ 33.734375 64.59375 27.734375 64.59375 \nQ 21.390625 64.59375 17.578125 60.78125 \nQ 13.765625 56.984375 13.71875 50.25 \nL 4.6875 51.171875 \nQ 5.609375 61.28125 11.65625 66.578125 \nQ 17.71875 71.875 27.9375 71.875 \nQ 38.234375 71.875 44.234375 66.15625 \nQ 50.25 60.453125 50.25 52 \nQ 50.25 47.703125 48.484375 43.546875 \nQ 46.734375 39.40625 42.65625 34.8125 \nQ 38.578125 30.21875 29.109375 22.21875 \nQ 21.1875 15.578125 18.9375 13.203125 \nQ 16.703125 10.84375 15.234375 8.453125 \nz\n\" id=\"ArialMT-50\"/>\n      </defs>\n      <g style=\"fill:#262626;\" transform=\"translate(468.862302 478.568281)scale(0.11 -0.11)\">\n       <use xlink:href=\"#ArialMT-50\"/>\n       <use x=\"55.615234\" xlink:href=\"#ArialMT-48\"/>\n       <use x=\"111.230469\" xlink:href=\"#ArialMT-48\"/>\n      </g>\n     </g>\n    </g>\n    <g id=\"xtick_6\">\n     <g id=\"line2d_6\">\n      <path clip-path=\"url(#p56f846d291)\" d=\"M 571.544343 461.194687 \nL 571.544343 26.314687 \n\" style=\"fill:none;stroke:#ffffff;stroke-linecap:round;\"/>\n     </g>\n     <g id=\"text_6\">\n      <!-- 250 -->\n      <g style=\"fill:#262626;\" transform=\"translate(562.368796 478.568281)scale(0.11 -0.11)\">\n       <use xlink:href=\"#ArialMT-50\"/>\n       <use x=\"55.615234\" xlink:href=\"#ArialMT-53\"/>\n       <use x=\"111.230469\" xlink:href=\"#ArialMT-48\"/>\n      </g>\n     </g>\n    </g>\n    <g id=\"xtick_7\">\n     <g id=\"line2d_7\">\n      <path clip-path=\"url(#p56f846d291)\" d=\"M 665.050836 461.194687 \nL 665.050836 26.314687 \n\" style=\"fill:none;stroke:#ffffff;stroke-linecap:round;\"/>\n     </g>\n     <g id=\"text_7\">\n      <!-- 300 -->\n      <defs>\n       <path d=\"M 4.203125 18.890625 \nL 12.984375 20.0625 \nQ 14.5 12.59375 18.140625 9.296875 \nQ 21.78125 6 27 6 \nQ 33.203125 6 37.46875 10.296875 \nQ 41.75 14.59375 41.75 20.953125 \nQ 41.75 27 37.796875 30.921875 \nQ 33.84375 34.859375 27.734375 34.859375 \nQ 25.25 34.859375 21.53125 33.890625 \nL 22.515625 41.609375 \nQ 23.390625 41.5 23.921875 41.5 \nQ 29.546875 41.5 34.03125 44.421875 \nQ 38.53125 47.359375 38.53125 53.46875 \nQ 38.53125 58.296875 35.25 61.46875 \nQ 31.984375 64.65625 26.8125 64.65625 \nQ 21.6875 64.65625 18.265625 61.421875 \nQ 14.84375 58.203125 13.875 51.765625 \nL 5.078125 53.328125 \nQ 6.6875 62.15625 12.390625 67.015625 \nQ 18.109375 71.875 26.609375 71.875 \nQ 32.46875 71.875 37.390625 69.359375 \nQ 42.328125 66.84375 44.9375 62.5 \nQ 47.5625 58.15625 47.5625 53.265625 \nQ 47.5625 48.640625 45.0625 44.828125 \nQ 42.578125 41.015625 37.703125 38.765625 \nQ 44.046875 37.3125 47.5625 32.6875 \nQ 51.078125 28.078125 51.078125 21.140625 \nQ 51.078125 11.765625 44.234375 5.25 \nQ 37.40625 -1.265625 26.953125 -1.265625 \nQ 17.53125 -1.265625 11.296875 4.34375 \nQ 5.078125 9.96875 4.203125 18.890625 \nz\n\" id=\"ArialMT-51\"/>\n      </defs>\n      <g style=\"fill:#262626;\" transform=\"translate(655.875289 478.568281)scale(0.11 -0.11)\">\n       <use xlink:href=\"#ArialMT-51\"/>\n       <use x=\"55.615234\" xlink:href=\"#ArialMT-48\"/>\n       <use x=\"111.230469\" xlink:href=\"#ArialMT-48\"/>\n      </g>\n     </g>\n    </g>\n    <g id=\"xtick_8\">\n     <g id=\"line2d_8\">\n      <path clip-path=\"url(#p56f846d291)\" d=\"M 758.55733 461.194687 \nL 758.55733 26.314687 \n\" style=\"fill:none;stroke:#ffffff;stroke-linecap:round;\"/>\n     </g>\n     <g id=\"text_8\">\n      <!-- 350 -->\n      <g style=\"fill:#262626;\" transform=\"translate(749.381783 478.568281)scale(0.11 -0.11)\">\n       <use xlink:href=\"#ArialMT-51\"/>\n       <use x=\"55.615234\" xlink:href=\"#ArialMT-53\"/>\n       <use x=\"111.230469\" xlink:href=\"#ArialMT-48\"/>\n      </g>\n     </g>\n    </g>\n    <g id=\"text_9\">\n     <!-- Number of Occurances -->\n     <defs>\n      <path d=\"M 7.625 0 \nL 7.625 71.578125 \nL 17.328125 71.578125 \nL 54.9375 15.375 \nL 54.9375 71.578125 \nL 64.015625 71.578125 \nL 64.015625 0 \nL 54.296875 0 \nL 16.703125 56.25 \nL 16.703125 0 \nz\n\" id=\"ArialMT-78\"/>\n      <path d=\"M 40.578125 0 \nL 40.578125 7.625 \nQ 34.515625 -1.171875 24.125 -1.171875 \nQ 19.53125 -1.171875 15.546875 0.578125 \nQ 11.578125 2.34375 9.640625 5 \nQ 7.71875 7.671875 6.9375 11.53125 \nQ 6.390625 14.109375 6.390625 19.734375 \nL 6.390625 51.859375 \nL 15.1875 51.859375 \nL 15.1875 23.09375 \nQ 15.1875 16.21875 15.71875 13.8125 \nQ 16.546875 10.359375 19.234375 8.375 \nQ 21.921875 6.390625 25.875 6.390625 \nQ 29.828125 6.390625 33.296875 8.421875 \nQ 36.765625 10.453125 38.203125 13.9375 \nQ 39.65625 17.4375 39.65625 24.078125 \nL 39.65625 51.859375 \nL 48.4375 51.859375 \nL 48.4375 0 \nz\n\" id=\"ArialMT-117\"/>\n      <path d=\"M 6.59375 0 \nL 6.59375 51.859375 \nL 14.453125 51.859375 \nL 14.453125 44.578125 \nQ 16.890625 48.390625 20.9375 50.703125 \nQ 25 53.03125 30.171875 53.03125 \nQ 35.9375 53.03125 39.625 50.640625 \nQ 43.3125 48.25 44.828125 43.953125 \nQ 50.984375 53.03125 60.84375 53.03125 \nQ 68.5625 53.03125 72.703125 48.75 \nQ 76.859375 44.484375 76.859375 35.59375 \nL 76.859375 0 \nL 68.109375 0 \nL 68.109375 32.671875 \nQ 68.109375 37.9375 67.25 40.25 \nQ 66.40625 42.578125 64.15625 43.984375 \nQ 61.921875 45.40625 58.890625 45.40625 \nQ 53.421875 45.40625 49.796875 41.765625 \nQ 46.1875 38.140625 46.1875 30.125 \nL 46.1875 0 \nL 37.40625 0 \nL 37.40625 33.6875 \nQ 37.40625 39.546875 35.25 42.46875 \nQ 33.109375 45.40625 28.21875 45.40625 \nQ 24.515625 45.40625 21.359375 43.453125 \nQ 18.21875 41.5 16.796875 37.734375 \nQ 15.375 33.984375 15.375 26.90625 \nL 15.375 0 \nz\n\" id=\"ArialMT-109\"/>\n      <path d=\"M 14.703125 0 \nL 6.546875 0 \nL 6.546875 71.578125 \nL 15.328125 71.578125 \nL 15.328125 46.046875 \nQ 20.90625 53.03125 29.546875 53.03125 \nQ 34.328125 53.03125 38.59375 51.09375 \nQ 42.875 49.171875 45.625 45.671875 \nQ 48.390625 42.1875 49.953125 37.25 \nQ 51.515625 32.328125 51.515625 26.703125 \nQ 51.515625 13.375 44.921875 6.09375 \nQ 38.328125 -1.171875 29.109375 -1.171875 \nQ 19.921875 -1.171875 14.703125 6.5 \nz\nM 14.59375 26.3125 \nQ 14.59375 17 17.140625 12.84375 \nQ 21.296875 6.0625 28.375 6.0625 \nQ 34.125 6.0625 38.328125 11.0625 \nQ 42.53125 16.0625 42.53125 25.984375 \nQ 42.53125 36.140625 38.5 40.96875 \nQ 34.46875 45.796875 28.765625 45.796875 \nQ 23 45.796875 18.796875 40.796875 \nQ 14.59375 35.796875 14.59375 26.3125 \nz\n\" id=\"ArialMT-98\"/>\n      <path d=\"M 42.09375 16.703125 \nL 51.171875 15.578125 \nQ 49.03125 7.625 43.21875 3.21875 \nQ 37.40625 -1.171875 28.375 -1.171875 \nQ 17 -1.171875 10.328125 5.828125 \nQ 3.65625 12.84375 3.65625 25.484375 \nQ 3.65625 38.578125 10.390625 45.796875 \nQ 17.140625 53.03125 27.875 53.03125 \nQ 38.28125 53.03125 44.875 45.953125 \nQ 51.46875 38.875 51.46875 26.03125 \nQ 51.46875 25.25 51.421875 23.6875 \nL 12.75 23.6875 \nQ 13.234375 15.140625 17.578125 10.59375 \nQ 21.921875 6.0625 28.421875 6.0625 \nQ 33.25 6.0625 36.671875 8.59375 \nQ 40.09375 11.140625 42.09375 16.703125 \nz\nM 13.234375 30.90625 \nL 42.1875 30.90625 \nQ 41.609375 37.453125 38.875 40.71875 \nQ 34.671875 45.796875 27.984375 45.796875 \nQ 21.921875 45.796875 17.796875 41.75 \nQ 13.671875 37.703125 13.234375 30.90625 \nz\n\" id=\"ArialMT-101\"/>\n      <path d=\"M 6.5 0 \nL 6.5 51.859375 \nL 14.40625 51.859375 \nL 14.40625 44 \nQ 17.4375 49.515625 20 51.265625 \nQ 22.5625 53.03125 25.640625 53.03125 \nQ 30.078125 53.03125 34.671875 50.203125 \nL 31.640625 42.046875 \nQ 28.421875 43.953125 25.203125 43.953125 \nQ 22.3125 43.953125 20.015625 42.21875 \nQ 17.71875 40.484375 16.75 37.40625 \nQ 15.28125 32.71875 15.28125 27.15625 \nL 15.28125 0 \nz\n\" id=\"ArialMT-114\"/>\n      <path id=\"ArialMT-32\"/>\n      <path d=\"M 3.328125 25.921875 \nQ 3.328125 40.328125 11.328125 47.265625 \nQ 18.015625 53.03125 27.640625 53.03125 \nQ 38.328125 53.03125 45.109375 46.015625 \nQ 51.90625 39.015625 51.90625 26.65625 \nQ 51.90625 16.65625 48.90625 10.90625 \nQ 45.90625 5.171875 40.15625 2 \nQ 34.421875 -1.171875 27.640625 -1.171875 \nQ 16.75 -1.171875 10.03125 5.8125 \nQ 3.328125 12.796875 3.328125 25.921875 \nz\nM 12.359375 25.921875 \nQ 12.359375 15.96875 16.703125 11.015625 \nQ 21.046875 6.0625 27.640625 6.0625 \nQ 34.1875 6.0625 38.53125 11.03125 \nQ 42.875 16.015625 42.875 26.21875 \nQ 42.875 35.84375 38.5 40.796875 \nQ 34.125 45.75 27.640625 45.75 \nQ 21.046875 45.75 16.703125 40.8125 \nQ 12.359375 35.890625 12.359375 25.921875 \nz\n\" id=\"ArialMT-111\"/>\n      <path d=\"M 8.6875 0 \nL 8.6875 45.015625 \nL 0.921875 45.015625 \nL 0.921875 51.859375 \nL 8.6875 51.859375 \nL 8.6875 57.375 \nQ 8.6875 62.59375 9.625 65.140625 \nQ 10.890625 68.5625 14.078125 70.671875 \nQ 17.28125 72.796875 23.046875 72.796875 \nQ 26.765625 72.796875 31.25 71.921875 \nL 29.9375 64.265625 \nQ 27.203125 64.75 24.75 64.75 \nQ 20.75 64.75 19.09375 63.03125 \nQ 17.4375 61.328125 17.4375 56.640625 \nL 17.4375 51.859375 \nL 27.546875 51.859375 \nL 27.546875 45.015625 \nL 17.4375 45.015625 \nL 17.4375 0 \nz\n\" id=\"ArialMT-102\"/>\n      <path d=\"M 4.828125 34.859375 \nQ 4.828125 52.6875 14.390625 62.765625 \nQ 23.96875 72.859375 39.109375 72.859375 \nQ 49.03125 72.859375 56.984375 68.109375 \nQ 64.9375 63.375 69.109375 54.90625 \nQ 73.296875 46.4375 73.296875 35.6875 \nQ 73.296875 24.8125 68.890625 16.21875 \nQ 64.5 7.625 56.4375 3.203125 \nQ 48.390625 -1.21875 39.0625 -1.21875 \nQ 28.953125 -1.21875 20.984375 3.65625 \nQ 13.03125 8.546875 8.921875 16.984375 \nQ 4.828125 25.4375 4.828125 34.859375 \nz\nM 14.59375 34.71875 \nQ 14.59375 21.78125 21.546875 14.328125 \nQ 28.515625 6.890625 39.015625 6.890625 \nQ 49.703125 6.890625 56.609375 14.40625 \nQ 63.53125 21.921875 63.53125 35.75 \nQ 63.53125 44.484375 60.578125 51 \nQ 57.625 57.515625 51.921875 61.109375 \nQ 46.234375 64.703125 39.15625 64.703125 \nQ 29.109375 64.703125 21.84375 57.78125 \nQ 14.59375 50.875 14.59375 34.71875 \nz\n\" id=\"ArialMT-79\"/>\n      <path d=\"M 40.4375 19 \nL 49.078125 17.875 \nQ 47.65625 8.9375 41.8125 3.875 \nQ 35.984375 -1.171875 27.484375 -1.171875 \nQ 16.84375 -1.171875 10.375 5.78125 \nQ 3.90625 12.75 3.90625 25.734375 \nQ 3.90625 34.125 6.6875 40.421875 \nQ 9.46875 46.734375 15.15625 49.875 \nQ 20.84375 53.03125 27.546875 53.03125 \nQ 35.984375 53.03125 41.359375 48.75 \nQ 46.734375 44.484375 48.25 36.625 \nL 39.703125 35.296875 \nQ 38.484375 40.53125 35.375 43.15625 \nQ 32.28125 45.796875 27.875 45.796875 \nQ 21.234375 45.796875 17.078125 41.03125 \nQ 12.9375 36.28125 12.9375 25.984375 \nQ 12.9375 15.53125 16.9375 10.796875 \nQ 20.953125 6.0625 27.390625 6.0625 \nQ 32.5625 6.0625 36.03125 9.234375 \nQ 39.5 12.40625 40.4375 19 \nz\n\" id=\"ArialMT-99\"/>\n      <path d=\"M 40.4375 6.390625 \nQ 35.546875 2.25 31.03125 0.53125 \nQ 26.515625 -1.171875 21.34375 -1.171875 \nQ 12.796875 -1.171875 8.203125 3 \nQ 3.609375 7.171875 3.609375 13.671875 \nQ 3.609375 17.484375 5.34375 20.625 \nQ 7.078125 23.78125 9.890625 25.6875 \nQ 12.703125 27.59375 16.21875 28.5625 \nQ 18.796875 29.25 24.03125 29.890625 \nQ 34.671875 31.15625 39.703125 32.90625 \nQ 39.75 34.71875 39.75 35.203125 \nQ 39.75 40.578125 37.25 42.78125 \nQ 33.890625 45.75 27.25 45.75 \nQ 21.046875 45.75 18.09375 43.578125 \nQ 15.140625 41.40625 13.71875 35.890625 \nL 5.125 37.0625 \nQ 6.296875 42.578125 8.984375 45.96875 \nQ 11.671875 49.359375 16.75 51.1875 \nQ 21.828125 53.03125 28.515625 53.03125 \nQ 35.15625 53.03125 39.296875 51.46875 \nQ 43.453125 49.90625 45.40625 47.53125 \nQ 47.359375 45.171875 48.140625 41.546875 \nQ 48.578125 39.3125 48.578125 33.453125 \nL 48.578125 21.734375 \nQ 48.578125 9.46875 49.140625 6.21875 \nQ 49.703125 2.984375 51.375 0 \nL 42.1875 0 \nQ 40.828125 2.734375 40.4375 6.390625 \nz\nM 39.703125 26.03125 \nQ 34.90625 24.078125 25.34375 22.703125 \nQ 19.921875 21.921875 17.671875 20.9375 \nQ 15.4375 19.96875 14.203125 18.09375 \nQ 12.984375 16.21875 12.984375 13.921875 \nQ 12.984375 10.40625 15.640625 8.0625 \nQ 18.3125 5.71875 23.4375 5.71875 \nQ 28.515625 5.71875 32.46875 7.9375 \nQ 36.421875 10.15625 38.28125 14.015625 \nQ 39.703125 17 39.703125 22.796875 \nz\n\" id=\"ArialMT-97\"/>\n      <path d=\"M 6.59375 0 \nL 6.59375 51.859375 \nL 14.5 51.859375 \nL 14.5 44.484375 \nQ 20.21875 53.03125 31 53.03125 \nQ 35.6875 53.03125 39.625 51.34375 \nQ 43.5625 49.65625 45.515625 46.921875 \nQ 47.46875 44.1875 48.25 40.4375 \nQ 48.734375 37.984375 48.734375 31.890625 \nL 48.734375 0 \nL 39.9375 0 \nL 39.9375 31.546875 \nQ 39.9375 36.921875 38.90625 39.578125 \nQ 37.890625 42.234375 35.28125 43.8125 \nQ 32.671875 45.40625 29.15625 45.40625 \nQ 23.53125 45.40625 19.453125 41.84375 \nQ 15.375 38.28125 15.375 28.328125 \nL 15.375 0 \nz\n\" id=\"ArialMT-110\"/>\n      <path d=\"M 3.078125 15.484375 \nL 11.765625 16.84375 \nQ 12.5 11.625 15.84375 8.84375 \nQ 19.1875 6.0625 25.203125 6.0625 \nQ 31.25 6.0625 34.171875 8.515625 \nQ 37.109375 10.984375 37.109375 14.3125 \nQ 37.109375 17.28125 34.515625 19 \nQ 32.71875 20.171875 25.53125 21.96875 \nQ 15.875 24.421875 12.140625 26.203125 \nQ 8.40625 27.984375 6.46875 31.125 \nQ 4.546875 34.28125 4.546875 38.09375 \nQ 4.546875 41.546875 6.125 44.5 \nQ 7.71875 47.46875 10.453125 49.421875 \nQ 12.5 50.921875 16.03125 51.96875 \nQ 19.578125 53.03125 23.640625 53.03125 \nQ 29.734375 53.03125 34.34375 51.265625 \nQ 38.96875 49.515625 41.15625 46.5 \nQ 43.359375 43.5 44.1875 38.484375 \nL 35.59375 37.3125 \nQ 35.015625 41.3125 32.203125 43.546875 \nQ 29.390625 45.796875 24.265625 45.796875 \nQ 18.21875 45.796875 15.625 43.796875 \nQ 13.03125 41.796875 13.03125 39.109375 \nQ 13.03125 37.40625 14.109375 36.03125 \nQ 15.1875 34.625 17.484375 33.6875 \nQ 18.796875 33.203125 25.25 31.453125 \nQ 34.578125 28.953125 38.25 27.359375 \nQ 41.9375 25.78125 44.03125 22.75 \nQ 46.140625 19.734375 46.140625 15.234375 \nQ 46.140625 10.84375 43.578125 6.953125 \nQ 41.015625 3.078125 36.171875 0.953125 \nQ 31.34375 -1.171875 25.25 -1.171875 \nQ 15.140625 -1.171875 9.84375 3.03125 \nQ 4.546875 7.234375 3.078125 15.484375 \nz\n\" id=\"ArialMT-115\"/>\n     </defs>\n     <g style=\"fill:#262626;\" transform=\"translate(346.282031 497.638594)scale(0.18 -0.18)\">\n      <use xlink:href=\"#ArialMT-78\"/>\n      <use x=\"72.216797\" xlink:href=\"#ArialMT-117\"/>\n      <use x=\"127.832031\" xlink:href=\"#ArialMT-109\"/>\n      <use x=\"211.132812\" xlink:href=\"#ArialMT-98\"/>\n      <use x=\"266.748047\" xlink:href=\"#ArialMT-101\"/>\n      <use x=\"322.363281\" xlink:href=\"#ArialMT-114\"/>\n      <use x=\"355.664062\" xlink:href=\"#ArialMT-32\"/>\n      <use x=\"383.447266\" xlink:href=\"#ArialMT-111\"/>\n      <use x=\"439.0625\" xlink:href=\"#ArialMT-102\"/>\n      <use x=\"466.845703\" xlink:href=\"#ArialMT-32\"/>\n      <use x=\"494.628906\" xlink:href=\"#ArialMT-79\"/>\n      <use x=\"572.412109\" xlink:href=\"#ArialMT-99\"/>\n      <use x=\"622.412109\" xlink:href=\"#ArialMT-99\"/>\n      <use x=\"672.412109\" xlink:href=\"#ArialMT-117\"/>\n      <use x=\"728.027344\" xlink:href=\"#ArialMT-114\"/>\n      <use x=\"761.328125\" xlink:href=\"#ArialMT-97\"/>\n      <use x=\"816.943359\" xlink:href=\"#ArialMT-110\"/>\n      <use x=\"872.558594\" xlink:href=\"#ArialMT-99\"/>\n      <use x=\"922.558594\" xlink:href=\"#ArialMT-101\"/>\n      <use x=\"978.173828\" xlink:href=\"#ArialMT-115\"/>\n     </g>\n    </g>\n   </g>\n   <g id=\"matplotlib.axis_2\">\n    <g id=\"ytick_1\">\n     <g id=\"line2d_9\">\n      <path clip-path=\"url(#p56f846d291)\" d=\"M 104.011875 446.272335 \nL 773.611875 446.272335 \n\" style=\"fill:none;stroke:#ffffff;stroke-linecap:round;\"/>\n     </g>\n     <g id=\"text_10\">\n      <!-- (bitch, nigga) -->\n      <defs>\n       <path d=\"M 23.390625 -21.046875 \nQ 16.109375 -11.859375 11.078125 0.4375 \nQ 6.0625 12.75 6.0625 25.921875 \nQ 6.0625 37.546875 9.8125 48.1875 \nQ 14.203125 60.546875 23.390625 72.796875 \nL 29.6875 72.796875 \nQ 23.78125 62.640625 21.875 58.296875 \nQ 18.890625 51.5625 17.1875 44.234375 \nQ 15.09375 35.109375 15.09375 25.875 \nQ 15.09375 2.390625 29.6875 -21.046875 \nz\n\" id=\"ArialMT-40\"/>\n       <path d=\"M 6.640625 61.46875 \nL 6.640625 71.578125 \nL 15.4375 71.578125 \nL 15.4375 61.46875 \nz\nM 6.640625 0 \nL 6.640625 51.859375 \nL 15.4375 51.859375 \nL 15.4375 0 \nz\n\" id=\"ArialMT-105\"/>\n       <path d=\"M 25.78125 7.859375 \nL 27.046875 0.09375 \nQ 23.34375 -0.6875 20.40625 -0.6875 \nQ 15.625 -0.6875 12.984375 0.828125 \nQ 10.359375 2.34375 9.28125 4.8125 \nQ 8.203125 7.28125 8.203125 15.1875 \nL 8.203125 45.015625 \nL 1.765625 45.015625 \nL 1.765625 51.859375 \nL 8.203125 51.859375 \nL 8.203125 64.703125 \nL 16.9375 69.96875 \nL 16.9375 51.859375 \nL 25.78125 51.859375 \nL 25.78125 45.015625 \nL 16.9375 45.015625 \nL 16.9375 14.703125 \nQ 16.9375 10.9375 17.40625 9.859375 \nQ 17.875 8.796875 18.921875 8.15625 \nQ 19.96875 7.515625 21.921875 7.515625 \nQ 23.390625 7.515625 25.78125 7.859375 \nz\n\" id=\"ArialMT-116\"/>\n       <path d=\"M 6.59375 0 \nL 6.59375 71.578125 \nL 15.375 71.578125 \nL 15.375 45.90625 \nQ 21.53125 53.03125 30.90625 53.03125 \nQ 36.671875 53.03125 40.921875 50.75 \nQ 45.171875 48.484375 47 44.484375 \nQ 48.828125 40.484375 48.828125 32.859375 \nL 48.828125 0 \nL 40.046875 0 \nL 40.046875 32.859375 \nQ 40.046875 39.453125 37.1875 42.453125 \nQ 34.328125 45.453125 29.109375 45.453125 \nQ 25.203125 45.453125 21.75 43.421875 \nQ 18.3125 41.40625 16.84375 37.9375 \nQ 15.375 34.46875 15.375 28.375 \nL 15.375 0 \nz\n\" id=\"ArialMT-104\"/>\n       <path d=\"M 8.890625 0 \nL 8.890625 10.015625 \nL 18.890625 10.015625 \nL 18.890625 0 \nQ 18.890625 -5.515625 16.9375 -8.90625 \nQ 14.984375 -12.3125 10.75 -14.15625 \nL 8.296875 -10.40625 \nQ 11.078125 -9.1875 12.390625 -6.8125 \nQ 13.71875 -4.4375 13.875 0 \nz\n\" id=\"ArialMT-44\"/>\n       <path d=\"M 4.984375 -4.296875 \nL 13.53125 -5.5625 \nQ 14.0625 -9.515625 16.5 -11.328125 \nQ 19.78125 -13.765625 25.4375 -13.765625 \nQ 31.546875 -13.765625 34.859375 -11.328125 \nQ 38.1875 -8.890625 39.359375 -4.5 \nQ 40.046875 -1.8125 39.984375 6.78125 \nQ 34.234375 0 25.640625 0 \nQ 14.9375 0 9.078125 7.71875 \nQ 3.21875 15.4375 3.21875 26.21875 \nQ 3.21875 33.640625 5.90625 39.90625 \nQ 8.59375 46.1875 13.6875 49.609375 \nQ 18.796875 53.03125 25.6875 53.03125 \nQ 34.859375 53.03125 40.828125 45.609375 \nL 40.828125 51.859375 \nL 48.921875 51.859375 \nL 48.921875 7.03125 \nQ 48.921875 -5.078125 46.453125 -10.125 \nQ 44 -15.1875 38.640625 -18.109375 \nQ 33.296875 -21.046875 25.484375 -21.046875 \nQ 16.21875 -21.046875 10.5 -16.875 \nQ 4.78125 -12.703125 4.984375 -4.296875 \nz\nM 12.25 26.859375 \nQ 12.25 16.65625 16.296875 11.96875 \nQ 20.359375 7.28125 26.46875 7.28125 \nQ 32.515625 7.28125 36.609375 11.9375 \nQ 40.71875 16.609375 40.71875 26.5625 \nQ 40.71875 36.078125 36.5 40.90625 \nQ 32.28125 45.75 26.3125 45.75 \nQ 20.453125 45.75 16.34375 40.984375 \nQ 12.25 36.234375 12.25 26.859375 \nz\n\" id=\"ArialMT-103\"/>\n       <path d=\"M 12.359375 -21.046875 \nL 6.0625 -21.046875 \nQ 20.65625 2.390625 20.65625 25.875 \nQ 20.65625 35.0625 18.5625 44.09375 \nQ 16.890625 51.421875 13.921875 58.15625 \nQ 12.015625 62.546875 6.0625 72.796875 \nL 12.359375 72.796875 \nQ 21.53125 60.546875 25.921875 48.1875 \nQ 29.6875 37.546875 29.6875 25.921875 \nQ 29.6875 12.75 24.625 0.4375 \nQ 19.578125 -11.859375 12.359375 -21.046875 \nz\n\" id=\"ArialMT-41\"/>\n      </defs>\n      <g style=\"fill:#262626;\" transform=\"translate(30.928438 450.276163)scale(0.11 -0.11)\">\n       <use xlink:href=\"#ArialMT-40\"/>\n       <use x=\"33.300781\" xlink:href=\"#ArialMT-98\"/>\n       <use x=\"88.916016\" xlink:href=\"#ArialMT-105\"/>\n       <use x=\"111.132812\" xlink:href=\"#ArialMT-116\"/>\n       <use x=\"138.916016\" xlink:href=\"#ArialMT-99\"/>\n       <use x=\"188.916016\" xlink:href=\"#ArialMT-104\"/>\n       <use x=\"244.53125\" xlink:href=\"#ArialMT-44\"/>\n       <use x=\"272.314453\" xlink:href=\"#ArialMT-32\"/>\n       <use x=\"300.097656\" xlink:href=\"#ArialMT-110\"/>\n       <use x=\"355.712891\" xlink:href=\"#ArialMT-105\"/>\n       <use x=\"377.929688\" xlink:href=\"#ArialMT-103\"/>\n       <use x=\"433.544922\" xlink:href=\"#ArialMT-103\"/>\n       <use x=\"489.160156\" xlink:href=\"#ArialMT-97\"/>\n       <use x=\"544.775391\" xlink:href=\"#ArialMT-41\"/>\n      </g>\n     </g>\n    </g>\n    <g id=\"ytick_2\">\n     <g id=\"line2d_10\">\n      <path clip-path=\"url(#p56f846d291)\" d=\"M 104.011875 424.954687 \nL 773.611875 424.954687 \n\" style=\"fill:none;stroke:#ffffff;stroke-linecap:round;\"/>\n     </g>\n     <g id=\"text_11\">\n      <!-- (little, bitch) -->\n      <defs>\n       <path d=\"M 6.390625 0 \nL 6.390625 71.578125 \nL 15.1875 71.578125 \nL 15.1875 0 \nz\n\" id=\"ArialMT-108\"/>\n      </defs>\n      <g style=\"fill:#262626;\" transform=\"translate(38.279531 428.958516)scale(0.11 -0.11)\">\n       <use xlink:href=\"#ArialMT-40\"/>\n       <use x=\"33.300781\" xlink:href=\"#ArialMT-108\"/>\n       <use x=\"55.517578\" xlink:href=\"#ArialMT-105\"/>\n       <use x=\"77.734375\" xlink:href=\"#ArialMT-116\"/>\n       <use x=\"105.517578\" xlink:href=\"#ArialMT-116\"/>\n       <use x=\"133.300781\" xlink:href=\"#ArialMT-108\"/>\n       <use x=\"155.517578\" xlink:href=\"#ArialMT-101\"/>\n       <use x=\"211.132812\" xlink:href=\"#ArialMT-44\"/>\n       <use x=\"238.916016\" xlink:href=\"#ArialMT-32\"/>\n       <use x=\"266.699219\" xlink:href=\"#ArialMT-98\"/>\n       <use x=\"322.314453\" xlink:href=\"#ArialMT-105\"/>\n       <use x=\"344.53125\" xlink:href=\"#ArialMT-116\"/>\n       <use x=\"372.314453\" xlink:href=\"#ArialMT-99\"/>\n       <use x=\"422.314453\" xlink:href=\"#ArialMT-104\"/>\n       <use x=\"477.929688\" xlink:href=\"#ArialMT-41\"/>\n      </g>\n     </g>\n    </g>\n    <g id=\"ytick_3\">\n     <g id=\"line2d_11\">\n      <path clip-path=\"url(#p56f846d291)\" d=\"M 104.011875 403.63704 \nL 773.611875 403.63704 \n\" style=\"fill:none;stroke:#ffffff;stroke-linecap:round;\"/>\n     </g>\n     <g id=\"text_12\">\n      <!-- (bitch, aint) -->\n      <g style=\"fill:#262626;\" transform=\"translate(40.106563 407.640869)scale(0.11 -0.11)\">\n       <use xlink:href=\"#ArialMT-40\"/>\n       <use x=\"33.300781\" xlink:href=\"#ArialMT-98\"/>\n       <use x=\"88.916016\" xlink:href=\"#ArialMT-105\"/>\n       <use x=\"111.132812\" xlink:href=\"#ArialMT-116\"/>\n       <use x=\"138.916016\" xlink:href=\"#ArialMT-99\"/>\n       <use x=\"188.916016\" xlink:href=\"#ArialMT-104\"/>\n       <use x=\"244.53125\" xlink:href=\"#ArialMT-44\"/>\n       <use x=\"272.314453\" xlink:href=\"#ArialMT-32\"/>\n       <use x=\"300.097656\" xlink:href=\"#ArialMT-97\"/>\n       <use x=\"355.712891\" xlink:href=\"#ArialMT-105\"/>\n       <use x=\"377.929688\" xlink:href=\"#ArialMT-110\"/>\n       <use x=\"433.544922\" xlink:href=\"#ArialMT-116\"/>\n       <use x=\"461.328125\" xlink:href=\"#ArialMT-41\"/>\n      </g>\n     </g>\n    </g>\n    <g id=\"ytick_4\">\n     <g id=\"line2d_12\">\n      <path clip-path=\"url(#p56f846d291)\" d=\"M 104.011875 382.319393 \nL 773.611875 382.319393 \n\" style=\"fill:none;stroke:#ffffff;stroke-linecap:round;\"/>\n     </g>\n     <g id=\"text_13\">\n      <!-- (bitch, got) -->\n      <g style=\"fill:#262626;\" transform=\"translate(42.550625 386.323222)scale(0.11 -0.11)\">\n       <use xlink:href=\"#ArialMT-40\"/>\n       <use x=\"33.300781\" xlink:href=\"#ArialMT-98\"/>\n       <use x=\"88.916016\" xlink:href=\"#ArialMT-105\"/>\n       <use x=\"111.132812\" xlink:href=\"#ArialMT-116\"/>\n       <use x=\"138.916016\" xlink:href=\"#ArialMT-99\"/>\n       <use x=\"188.916016\" xlink:href=\"#ArialMT-104\"/>\n       <use x=\"244.53125\" xlink:href=\"#ArialMT-44\"/>\n       <use x=\"272.314453\" xlink:href=\"#ArialMT-32\"/>\n       <use x=\"300.097656\" xlink:href=\"#ArialMT-103\"/>\n       <use x=\"355.712891\" xlink:href=\"#ArialMT-111\"/>\n       <use x=\"411.328125\" xlink:href=\"#ArialMT-116\"/>\n       <use x=\"439.111328\" xlink:href=\"#ArialMT-41\"/>\n      </g>\n     </g>\n    </g>\n    <g id=\"ytick_5\">\n     <g id=\"line2d_13\">\n      <path clip-path=\"url(#p56f846d291)\" d=\"M 104.011875 361.001746 \nL 773.611875 361.001746 \n\" style=\"fill:none;stroke:#ffffff;stroke-linecap:round;\"/>\n     </g>\n     <g id=\"text_14\">\n      <!-- (fuck, bitch) -->\n      <defs>\n       <path d=\"M 6.640625 0 \nL 6.640625 71.578125 \nL 15.4375 71.578125 \nL 15.4375 30.765625 \nL 36.234375 51.859375 \nL 47.609375 51.859375 \nL 27.78125 32.625 \nL 49.609375 0 \nL 38.765625 0 \nL 21.625 26.515625 \nL 15.4375 20.5625 \nL 15.4375 0 \nz\n\" id=\"ArialMT-107\"/>\n      </defs>\n      <g style=\"fill:#262626;\" transform=\"translate(37.667656 365.005574)scale(0.11 -0.11)\">\n       <use xlink:href=\"#ArialMT-40\"/>\n       <use x=\"33.300781\" xlink:href=\"#ArialMT-102\"/>\n       <use x=\"61.083984\" xlink:href=\"#ArialMT-117\"/>\n       <use x=\"116.699219\" xlink:href=\"#ArialMT-99\"/>\n       <use x=\"166.699219\" xlink:href=\"#ArialMT-107\"/>\n       <use x=\"216.699219\" xlink:href=\"#ArialMT-44\"/>\n       <use x=\"244.482422\" xlink:href=\"#ArialMT-32\"/>\n       <use x=\"272.265625\" xlink:href=\"#ArialMT-98\"/>\n       <use x=\"327.880859\" xlink:href=\"#ArialMT-105\"/>\n       <use x=\"350.097656\" xlink:href=\"#ArialMT-116\"/>\n       <use x=\"377.880859\" xlink:href=\"#ArialMT-99\"/>\n       <use x=\"427.880859\" xlink:href=\"#ArialMT-104\"/>\n       <use x=\"483.496094\" xlink:href=\"#ArialMT-41\"/>\n      </g>\n     </g>\n    </g>\n    <g id=\"ytick_6\">\n     <g id=\"line2d_14\">\n      <path clip-path=\"url(#p56f846d291)\" d=\"M 104.011875 339.684099 \nL 773.611875 339.684099 \n\" style=\"fill:none;stroke:#ffffff;stroke-linecap:round;\"/>\n     </g>\n     <g id=\"text_15\">\n      <!-- (hoes, aint) -->\n      <g style=\"fill:#262626;\" transform=\"translate(39.489531 343.687927)scale(0.11 -0.11)\">\n       <use xlink:href=\"#ArialMT-40\"/>\n       <use x=\"33.300781\" xlink:href=\"#ArialMT-104\"/>\n       <use x=\"88.916016\" xlink:href=\"#ArialMT-111\"/>\n       <use x=\"144.53125\" xlink:href=\"#ArialMT-101\"/>\n       <use x=\"200.146484\" xlink:href=\"#ArialMT-115\"/>\n       <use x=\"250.146484\" xlink:href=\"#ArialMT-44\"/>\n       <use x=\"277.929688\" xlink:href=\"#ArialMT-32\"/>\n       <use x=\"305.712891\" xlink:href=\"#ArialMT-97\"/>\n       <use x=\"361.328125\" xlink:href=\"#ArialMT-105\"/>\n       <use x=\"383.544922\" xlink:href=\"#ArialMT-110\"/>\n       <use x=\"439.160156\" xlink:href=\"#ArialMT-116\"/>\n       <use x=\"466.943359\" xlink:href=\"#ArialMT-41\"/>\n      </g>\n     </g>\n    </g>\n    <g id=\"ytick_7\">\n     <g id=\"line2d_15\">\n      <path clip-path=\"url(#p56f846d291)\" d=\"M 104.011875 318.366452 \nL 773.611875 318.366452 \n\" style=\"fill:none;stroke:#ffffff;stroke-linecap:round;\"/>\n     </g>\n     <g id=\"text_16\">\n      <!-- (ass, nigga) -->\n      <g style=\"fill:#262626;\" transform=\"translate(37.045469 322.37028)scale(0.11 -0.11)\">\n       <use xlink:href=\"#ArialMT-40\"/>\n       <use x=\"33.300781\" xlink:href=\"#ArialMT-97\"/>\n       <use x=\"88.916016\" xlink:href=\"#ArialMT-115\"/>\n       <use x=\"138.916016\" xlink:href=\"#ArialMT-115\"/>\n       <use x=\"188.916016\" xlink:href=\"#ArialMT-44\"/>\n       <use x=\"216.699219\" xlink:href=\"#ArialMT-32\"/>\n       <use x=\"244.482422\" xlink:href=\"#ArialMT-110\"/>\n       <use x=\"300.097656\" xlink:href=\"#ArialMT-105\"/>\n       <use x=\"322.314453\" xlink:href=\"#ArialMT-103\"/>\n       <use x=\"377.929688\" xlink:href=\"#ArialMT-103\"/>\n       <use x=\"433.544922\" xlink:href=\"#ArialMT-97\"/>\n       <use x=\"489.160156\" xlink:href=\"#ArialMT-41\"/>\n      </g>\n     </g>\n    </g>\n    <g id=\"ytick_8\">\n     <g id=\"line2d_16\">\n      <path clip-path=\"url(#p56f846d291)\" d=\"M 104.011875 297.048805 \nL 773.611875 297.048805 \n\" style=\"fill:none;stroke:#ffffff;stroke-linecap:round;\"/>\n     </g>\n     <g id=\"text_17\">\n      <!-- (bitch, bitch) -->\n      <g style=\"fill:#262626;\" transform=\"translate(34.606563 301.052633)scale(0.11 -0.11)\">\n       <use xlink:href=\"#ArialMT-40\"/>\n       <use x=\"33.300781\" xlink:href=\"#ArialMT-98\"/>\n       <use x=\"88.916016\" xlink:href=\"#ArialMT-105\"/>\n       <use x=\"111.132812\" xlink:href=\"#ArialMT-116\"/>\n       <use x=\"138.916016\" xlink:href=\"#ArialMT-99\"/>\n       <use x=\"188.916016\" xlink:href=\"#ArialMT-104\"/>\n       <use x=\"244.53125\" xlink:href=\"#ArialMT-44\"/>\n       <use x=\"272.314453\" xlink:href=\"#ArialMT-32\"/>\n       <use x=\"300.097656\" xlink:href=\"#ArialMT-98\"/>\n       <use x=\"355.712891\" xlink:href=\"#ArialMT-105\"/>\n       <use x=\"377.929688\" xlink:href=\"#ArialMT-116\"/>\n       <use x=\"405.712891\" xlink:href=\"#ArialMT-99\"/>\n       <use x=\"455.712891\" xlink:href=\"#ArialMT-104\"/>\n       <use x=\"511.328125\" xlink:href=\"#ArialMT-41\"/>\n      </g>\n     </g>\n    </g>\n    <g id=\"ytick_9\">\n     <g id=\"line2d_17\">\n      <path clip-path=\"url(#p56f846d291)\" d=\"M 104.011875 275.731158 \nL 773.611875 275.731158 \n\" style=\"fill:none;stroke:#ffffff;stroke-linecap:round;\"/>\n     </g>\n     <g id=\"text_18\">\n      <!-- (bad, bitches) -->\n      <defs>\n       <path d=\"M 40.234375 0 \nL 40.234375 6.546875 \nQ 35.296875 -1.171875 25.734375 -1.171875 \nQ 19.53125 -1.171875 14.328125 2.25 \nQ 9.125 5.671875 6.265625 11.796875 \nQ 3.421875 17.921875 3.421875 25.875 \nQ 3.421875 33.640625 6 39.96875 \nQ 8.59375 46.296875 13.765625 49.65625 \nQ 18.953125 53.03125 25.34375 53.03125 \nQ 30.03125 53.03125 33.6875 51.046875 \nQ 37.359375 49.078125 39.65625 45.90625 \nL 39.65625 71.578125 \nL 48.390625 71.578125 \nL 48.390625 0 \nz\nM 12.453125 25.875 \nQ 12.453125 15.921875 16.640625 10.984375 \nQ 20.84375 6.0625 26.5625 6.0625 \nQ 32.328125 6.0625 36.34375 10.765625 \nQ 40.375 15.484375 40.375 25.140625 \nQ 40.375 35.796875 36.265625 40.765625 \nQ 32.171875 45.75 26.171875 45.75 \nQ 20.3125 45.75 16.375 40.96875 \nQ 12.453125 36.1875 12.453125 25.875 \nz\n\" id=\"ArialMT-100\"/>\n      </defs>\n      <g style=\"fill:#262626;\" transform=\"translate(27.8725 279.734986)scale(0.11 -0.11)\">\n       <use xlink:href=\"#ArialMT-40\"/>\n       <use x=\"33.300781\" xlink:href=\"#ArialMT-98\"/>\n       <use x=\"88.916016\" xlink:href=\"#ArialMT-97\"/>\n       <use x=\"144.53125\" xlink:href=\"#ArialMT-100\"/>\n       <use x=\"200.146484\" xlink:href=\"#ArialMT-44\"/>\n       <use x=\"227.929688\" xlink:href=\"#ArialMT-32\"/>\n       <use x=\"255.712891\" xlink:href=\"#ArialMT-98\"/>\n       <use x=\"311.328125\" xlink:href=\"#ArialMT-105\"/>\n       <use x=\"333.544922\" xlink:href=\"#ArialMT-116\"/>\n       <use x=\"361.328125\" xlink:href=\"#ArialMT-99\"/>\n       <use x=\"411.328125\" xlink:href=\"#ArialMT-104\"/>\n       <use x=\"466.943359\" xlink:href=\"#ArialMT-101\"/>\n       <use x=\"522.558594\" xlink:href=\"#ArialMT-115\"/>\n       <use x=\"572.558594\" xlink:href=\"#ArialMT-41\"/>\n      </g>\n     </g>\n    </g>\n    <g id=\"ytick_10\">\n     <g id=\"line2d_18\">\n      <path clip-path=\"url(#p56f846d291)\" d=\"M 104.011875 254.413511 \nL 773.611875 254.413511 \n\" style=\"fill:none;stroke:#ffffff;stroke-linecap:round;\"/>\n     </g>\n     <g id=\"text_19\">\n      <!-- (bitch, dont) -->\n      <g style=\"fill:#262626;\" transform=\"translate(36.433594 258.417339)scale(0.11 -0.11)\">\n       <use xlink:href=\"#ArialMT-40\"/>\n       <use x=\"33.300781\" xlink:href=\"#ArialMT-98\"/>\n       <use x=\"88.916016\" xlink:href=\"#ArialMT-105\"/>\n       <use x=\"111.132812\" xlink:href=\"#ArialMT-116\"/>\n       <use x=\"138.916016\" xlink:href=\"#ArialMT-99\"/>\n       <use x=\"188.916016\" xlink:href=\"#ArialMT-104\"/>\n       <use x=\"244.53125\" xlink:href=\"#ArialMT-44\"/>\n       <use x=\"272.314453\" xlink:href=\"#ArialMT-32\"/>\n       <use x=\"300.097656\" xlink:href=\"#ArialMT-100\"/>\n       <use x=\"355.712891\" xlink:href=\"#ArialMT-111\"/>\n       <use x=\"411.328125\" xlink:href=\"#ArialMT-110\"/>\n       <use x=\"466.943359\" xlink:href=\"#ArialMT-116\"/>\n       <use x=\"494.726562\" xlink:href=\"#ArialMT-41\"/>\n      </g>\n     </g>\n    </g>\n    <g id=\"ytick_11\">\n     <g id=\"line2d_19\">\n      <path clip-path=\"url(#p56f846d291)\" d=\"M 104.011875 233.095864 \nL 773.611875 233.095864 \n\" style=\"fill:none;stroke:#ffffff;stroke-linecap:round;\"/>\n     </g>\n     <g id=\"text_20\">\n      <!-- (bad, bitch) -->\n      <g style=\"fill:#262626;\" transform=\"translate(39.489531 237.099692)scale(0.11 -0.11)\">\n       <use xlink:href=\"#ArialMT-40\"/>\n       <use x=\"33.300781\" xlink:href=\"#ArialMT-98\"/>\n       <use x=\"88.916016\" xlink:href=\"#ArialMT-97\"/>\n       <use x=\"144.53125\" xlink:href=\"#ArialMT-100\"/>\n       <use x=\"200.146484\" xlink:href=\"#ArialMT-44\"/>\n       <use x=\"227.929688\" xlink:href=\"#ArialMT-32\"/>\n       <use x=\"255.712891\" xlink:href=\"#ArialMT-98\"/>\n       <use x=\"311.328125\" xlink:href=\"#ArialMT-105\"/>\n       <use x=\"333.544922\" xlink:href=\"#ArialMT-116\"/>\n       <use x=\"361.328125\" xlink:href=\"#ArialMT-99\"/>\n       <use x=\"411.328125\" xlink:href=\"#ArialMT-104\"/>\n       <use x=\"466.943359\" xlink:href=\"#ArialMT-41\"/>\n      </g>\n     </g>\n    </g>\n    <g id=\"ytick_12\">\n     <g id=\"line2d_20\">\n      <path clip-path=\"url(#p56f846d291)\" d=\"M 104.011875 211.778217 \nL 773.611875 211.778217 \n\" style=\"fill:none;stroke:#ffffff;stroke-linecap:round;\"/>\n     </g>\n     <g id=\"text_21\">\n      <!-- (yo, bitch) -->\n      <defs>\n       <path d=\"M 6.203125 -19.96875 \nL 5.21875 -11.71875 \nQ 8.109375 -12.5 10.25 -12.5 \nQ 13.1875 -12.5 14.9375 -11.515625 \nQ 16.703125 -10.546875 17.828125 -8.796875 \nQ 18.65625 -7.46875 20.515625 -2.25 \nQ 20.75 -1.515625 21.296875 -0.09375 \nL 1.609375 51.859375 \nL 11.078125 51.859375 \nL 21.875 21.828125 \nQ 23.96875 16.109375 25.640625 9.8125 \nQ 27.15625 15.875 29.25 21.625 \nL 40.328125 51.859375 \nL 49.125 51.859375 \nL 29.390625 -0.875 \nQ 26.21875 -9.421875 24.46875 -12.640625 \nQ 22.125 -17 19.09375 -19.015625 \nQ 16.0625 -21.046875 11.859375 -21.046875 \nQ 9.328125 -21.046875 6.203125 -19.96875 \nz\n\" id=\"ArialMT-121\"/>\n      </defs>\n      <g style=\"fill:#262626;\" transform=\"translate(46.223594 215.782045)scale(0.11 -0.11)\">\n       <use xlink:href=\"#ArialMT-40\"/>\n       <use x=\"33.300781\" xlink:href=\"#ArialMT-121\"/>\n       <use x=\"83.300781\" xlink:href=\"#ArialMT-111\"/>\n       <use x=\"138.916016\" xlink:href=\"#ArialMT-44\"/>\n       <use x=\"166.699219\" xlink:href=\"#ArialMT-32\"/>\n       <use x=\"194.482422\" xlink:href=\"#ArialMT-98\"/>\n       <use x=\"250.097656\" xlink:href=\"#ArialMT-105\"/>\n       <use x=\"272.314453\" xlink:href=\"#ArialMT-116\"/>\n       <use x=\"300.097656\" xlink:href=\"#ArialMT-99\"/>\n       <use x=\"350.097656\" xlink:href=\"#ArialMT-104\"/>\n       <use x=\"405.712891\" xlink:href=\"#ArialMT-41\"/>\n      </g>\n     </g>\n    </g>\n    <g id=\"ytick_13\">\n     <g id=\"line2d_21\">\n      <path clip-path=\"url(#p56f846d291)\" d=\"M 104.011875 190.46057 \nL 773.611875 190.46057 \n\" style=\"fill:none;stroke:#ffffff;stroke-linecap:round;\"/>\n     </g>\n     <g id=\"text_22\">\n      <!-- (ass, bitch) -->\n      <g style=\"fill:#262626;\" transform=\"translate(40.723594 194.464398)scale(0.11 -0.11)\">\n       <use xlink:href=\"#ArialMT-40\"/>\n       <use x=\"33.300781\" xlink:href=\"#ArialMT-97\"/>\n       <use x=\"88.916016\" xlink:href=\"#ArialMT-115\"/>\n       <use x=\"138.916016\" xlink:href=\"#ArialMT-115\"/>\n       <use x=\"188.916016\" xlink:href=\"#ArialMT-44\"/>\n       <use x=\"216.699219\" xlink:href=\"#ArialMT-32\"/>\n       <use x=\"244.482422\" xlink:href=\"#ArialMT-98\"/>\n       <use x=\"300.097656\" xlink:href=\"#ArialMT-105\"/>\n       <use x=\"322.314453\" xlink:href=\"#ArialMT-116\"/>\n       <use x=\"350.097656\" xlink:href=\"#ArialMT-99\"/>\n       <use x=\"400.097656\" xlink:href=\"#ArialMT-104\"/>\n       <use x=\"455.712891\" xlink:href=\"#ArialMT-41\"/>\n      </g>\n     </g>\n    </g>\n    <g id=\"ytick_14\">\n     <g id=\"line2d_22\">\n      <path clip-path=\"url(#p56f846d291)\" d=\"M 104.011875 169.142923 \nL 773.611875 169.142923 \n\" style=\"fill:none;stroke:#ffffff;stroke-linecap:round;\"/>\n     </g>\n     <g id=\"text_23\">\n      <!-- (look, like) -->\n      <g style=\"fill:#262626;\" transform=\"translate(44.391406 173.146751)scale(0.11 -0.11)\">\n       <use xlink:href=\"#ArialMT-40\"/>\n       <use x=\"33.300781\" xlink:href=\"#ArialMT-108\"/>\n       <use x=\"55.517578\" xlink:href=\"#ArialMT-111\"/>\n       <use x=\"111.132812\" xlink:href=\"#ArialMT-111\"/>\n       <use x=\"166.748047\" xlink:href=\"#ArialMT-107\"/>\n       <use x=\"216.748047\" xlink:href=\"#ArialMT-44\"/>\n       <use x=\"244.53125\" xlink:href=\"#ArialMT-32\"/>\n       <use x=\"272.314453\" xlink:href=\"#ArialMT-108\"/>\n       <use x=\"294.53125\" xlink:href=\"#ArialMT-105\"/>\n       <use x=\"316.748047\" xlink:href=\"#ArialMT-107\"/>\n       <use x=\"366.748047\" xlink:href=\"#ArialMT-101\"/>\n       <use x=\"422.363281\" xlink:href=\"#ArialMT-41\"/>\n      </g>\n     </g>\n    </g>\n    <g id=\"ytick_15\">\n     <g id=\"line2d_23\">\n      <path clip-path=\"url(#p56f846d291)\" d=\"M 104.011875 147.825276 \nL 773.611875 147.825276 \n\" style=\"fill:none;stroke:#ffffff;stroke-linecap:round;\"/>\n     </g>\n     <g id=\"text_24\">\n      <!-- (bitch, im) -->\n      <g style=\"fill:#262626;\" transform=\"translate(46.233906 151.829104)scale(0.11 -0.11)\">\n       <use xlink:href=\"#ArialMT-40\"/>\n       <use x=\"33.300781\" xlink:href=\"#ArialMT-98\"/>\n       <use x=\"88.916016\" xlink:href=\"#ArialMT-105\"/>\n       <use x=\"111.132812\" xlink:href=\"#ArialMT-116\"/>\n       <use x=\"138.916016\" xlink:href=\"#ArialMT-99\"/>\n       <use x=\"188.916016\" xlink:href=\"#ArialMT-104\"/>\n       <use x=\"244.53125\" xlink:href=\"#ArialMT-44\"/>\n       <use x=\"272.314453\" xlink:href=\"#ArialMT-32\"/>\n       <use x=\"300.097656\" xlink:href=\"#ArialMT-105\"/>\n       <use x=\"322.314453\" xlink:href=\"#ArialMT-109\"/>\n       <use x=\"405.615234\" xlink:href=\"#ArialMT-41\"/>\n      </g>\n     </g>\n    </g>\n    <g id=\"ytick_16\">\n     <g id=\"line2d_24\">\n      <path clip-path=\"url(#p56f846d291)\" d=\"M 104.011875 126.507629 \nL 773.611875 126.507629 \n\" style=\"fill:none;stroke:#ffffff;stroke-linecap:round;\"/>\n     </g>\n     <g id=\"text_25\">\n      <!-- (like, bitch) -->\n      <g style=\"fill:#262626;\" transform=\"translate(41.335469 130.511457)scale(0.11 -0.11)\">\n       <use xlink:href=\"#ArialMT-40\"/>\n       <use x=\"33.300781\" xlink:href=\"#ArialMT-108\"/>\n       <use x=\"55.517578\" xlink:href=\"#ArialMT-105\"/>\n       <use x=\"77.734375\" xlink:href=\"#ArialMT-107\"/>\n       <use x=\"127.734375\" xlink:href=\"#ArialMT-101\"/>\n       <use x=\"183.349609\" xlink:href=\"#ArialMT-44\"/>\n       <use x=\"211.132812\" xlink:href=\"#ArialMT-32\"/>\n       <use x=\"238.916016\" xlink:href=\"#ArialMT-98\"/>\n       <use x=\"294.53125\" xlink:href=\"#ArialMT-105\"/>\n       <use x=\"316.748047\" xlink:href=\"#ArialMT-116\"/>\n       <use x=\"344.53125\" xlink:href=\"#ArialMT-99\"/>\n       <use x=\"394.53125\" xlink:href=\"#ArialMT-104\"/>\n       <use x=\"450.146484\" xlink:href=\"#ArialMT-41\"/>\n      </g>\n     </g>\n    </g>\n    <g id=\"ytick_17\">\n     <g id=\"line2d_25\">\n      <path clip-path=\"url(#p56f846d291)\" d=\"M 104.011875 105.189982 \nL 773.611875 105.189982 \n\" style=\"fill:none;stroke:#ffffff;stroke-linecap:round;\"/>\n     </g>\n     <g id=\"text_26\">\n      <!-- (bitch, ass) -->\n      <g style=\"fill:#262626;\" transform=\"translate(40.723594 109.19381)scale(0.11 -0.11)\">\n       <use xlink:href=\"#ArialMT-40\"/>\n       <use x=\"33.300781\" xlink:href=\"#ArialMT-98\"/>\n       <use x=\"88.916016\" xlink:href=\"#ArialMT-105\"/>\n       <use x=\"111.132812\" xlink:href=\"#ArialMT-116\"/>\n       <use x=\"138.916016\" xlink:href=\"#ArialMT-99\"/>\n       <use x=\"188.916016\" xlink:href=\"#ArialMT-104\"/>\n       <use x=\"244.53125\" xlink:href=\"#ArialMT-44\"/>\n       <use x=\"272.314453\" xlink:href=\"#ArialMT-32\"/>\n       <use x=\"300.097656\" xlink:href=\"#ArialMT-97\"/>\n       <use x=\"355.712891\" xlink:href=\"#ArialMT-115\"/>\n       <use x=\"405.712891\" xlink:href=\"#ArialMT-115\"/>\n       <use x=\"455.712891\" xlink:href=\"#ArialMT-41\"/>\n      </g>\n     </g>\n    </g>\n    <g id=\"ytick_18\">\n     <g id=\"line2d_26\">\n      <path clip-path=\"url(#p56f846d291)\" d=\"M 104.011875 83.872335 \nL 773.611875 83.872335 \n\" style=\"fill:none;stroke:#ffffff;stroke-linecap:round;\"/>\n     </g>\n     <g id=\"text_27\">\n      <!-- (gon, na) -->\n      <g style=\"fill:#262626;\" transform=\"translate(50.489531 87.876163)scale(0.11 -0.11)\">\n       <use xlink:href=\"#ArialMT-40\"/>\n       <use x=\"33.300781\" xlink:href=\"#ArialMT-103\"/>\n       <use x=\"88.916016\" xlink:href=\"#ArialMT-111\"/>\n       <use x=\"144.53125\" xlink:href=\"#ArialMT-110\"/>\n       <use x=\"200.146484\" xlink:href=\"#ArialMT-44\"/>\n       <use x=\"227.929688\" xlink:href=\"#ArialMT-32\"/>\n       <use x=\"255.712891\" xlink:href=\"#ArialMT-110\"/>\n       <use x=\"311.328125\" xlink:href=\"#ArialMT-97\"/>\n       <use x=\"366.943359\" xlink:href=\"#ArialMT-41\"/>\n      </g>\n     </g>\n    </g>\n    <g id=\"ytick_19\">\n     <g id=\"line2d_27\">\n      <path clip-path=\"url(#p56f846d291)\" d=\"M 104.011875 62.554687 \nL 773.611875 62.554687 \n\" style=\"fill:none;stroke:#ffffff;stroke-linecap:round;\"/>\n     </g>\n     <g id=\"text_28\">\n      <!-- (got, ta) -->\n      <g style=\"fill:#262626;\" transform=\"translate(56.611719 66.558516)scale(0.11 -0.11)\">\n       <use xlink:href=\"#ArialMT-40\"/>\n       <use x=\"33.300781\" xlink:href=\"#ArialMT-103\"/>\n       <use x=\"88.916016\" xlink:href=\"#ArialMT-111\"/>\n       <use x=\"144.53125\" xlink:href=\"#ArialMT-116\"/>\n       <use x=\"172.314453\" xlink:href=\"#ArialMT-44\"/>\n       <use x=\"200.097656\" xlink:href=\"#ArialMT-32\"/>\n       <use x=\"227.880859\" xlink:href=\"#ArialMT-116\"/>\n       <use x=\"255.664062\" xlink:href=\"#ArialMT-97\"/>\n       <use x=\"311.279297\" xlink:href=\"#ArialMT-41\"/>\n      </g>\n     </g>\n    </g>\n    <g id=\"ytick_20\">\n     <g id=\"line2d_28\">\n      <path clip-path=\"url(#p56f846d291)\" d=\"M 104.011875 41.23704 \nL 773.611875 41.23704 \n\" style=\"fill:none;stroke:#ffffff;stroke-linecap:round;\"/>\n     </g>\n     <g id=\"text_29\">\n      <!-- (wan, na) -->\n      <defs>\n       <path d=\"M 16.15625 0 \nL 0.296875 51.859375 \nL 9.375 51.859375 \nL 17.625 21.921875 \nL 20.703125 10.796875 \nQ 20.90625 11.625 23.390625 21.484375 \nL 31.640625 51.859375 \nL 40.671875 51.859375 \nL 48.4375 21.78125 \nL 51.03125 11.859375 \nL 54 21.875 \nL 62.890625 51.859375 \nL 71.4375 51.859375 \nL 55.21875 0 \nL 46.09375 0 \nL 37.84375 31.0625 \nL 35.84375 39.890625 \nL 25.34375 0 \nz\n\" id=\"ArialMT-119\"/>\n      </defs>\n      <g style=\"fill:#262626;\" transform=\"translate(48.6625 45.240869)scale(0.11 -0.11)\">\n       <use xlink:href=\"#ArialMT-40\"/>\n       <use x=\"33.300781\" xlink:href=\"#ArialMT-119\"/>\n       <use x=\"105.517578\" xlink:href=\"#ArialMT-97\"/>\n       <use x=\"161.132812\" xlink:href=\"#ArialMT-110\"/>\n       <use x=\"216.748047\" xlink:href=\"#ArialMT-44\"/>\n       <use x=\"244.53125\" xlink:href=\"#ArialMT-32\"/>\n       <use x=\"272.314453\" xlink:href=\"#ArialMT-110\"/>\n       <use x=\"327.929688\" xlink:href=\"#ArialMT-97\"/>\n       <use x=\"383.544922\" xlink:href=\"#ArialMT-41\"/>\n      </g>\n     </g>\n    </g>\n    <g id=\"text_30\">\n     <!-- Bigram -->\n     <defs>\n      <path d=\"M 7.328125 0 \nL 7.328125 71.578125 \nL 34.1875 71.578125 \nQ 42.390625 71.578125 47.34375 69.40625 \nQ 52.296875 67.234375 55.09375 62.71875 \nQ 57.90625 58.203125 57.90625 53.265625 \nQ 57.90625 48.6875 55.421875 44.625 \nQ 52.9375 40.578125 47.90625 38.09375 \nQ 54.390625 36.1875 57.875 31.59375 \nQ 61.375 27 61.375 20.75 \nQ 61.375 15.71875 59.25 11.390625 \nQ 57.125 7.078125 54 4.734375 \nQ 50.875 2.390625 46.15625 1.1875 \nQ 41.453125 0 34.625 0 \nz\nM 16.796875 41.5 \nL 32.28125 41.5 \nQ 38.578125 41.5 41.3125 42.328125 \nQ 44.921875 43.40625 46.75 45.890625 \nQ 48.578125 48.390625 48.578125 52.15625 \nQ 48.578125 55.71875 46.875 58.421875 \nQ 45.171875 61.140625 41.984375 62.140625 \nQ 38.8125 63.140625 31.109375 63.140625 \nL 16.796875 63.140625 \nz\nM 16.796875 8.453125 \nL 34.625 8.453125 \nQ 39.203125 8.453125 41.0625 8.796875 \nQ 44.34375 9.375 46.53125 10.734375 \nQ 48.734375 12.109375 50.140625 14.71875 \nQ 51.5625 17.328125 51.5625 20.75 \nQ 51.5625 24.75 49.515625 27.703125 \nQ 47.46875 30.671875 43.828125 31.859375 \nQ 40.1875 33.0625 33.34375 33.0625 \nL 16.796875 33.0625 \nz\n\" id=\"ArialMT-66\"/>\n     </defs>\n     <g style=\"fill:#262626;\" transform=\"translate(20.084063 272.260781)rotate(-90)scale(0.18 -0.18)\">\n      <use xlink:href=\"#ArialMT-66\"/>\n      <use x=\"66.699219\" xlink:href=\"#ArialMT-105\"/>\n      <use x=\"88.916016\" xlink:href=\"#ArialMT-103\"/>\n      <use x=\"144.53125\" xlink:href=\"#ArialMT-114\"/>\n      <use x=\"177.832031\" xlink:href=\"#ArialMT-97\"/>\n      <use x=\"233.447266\" xlink:href=\"#ArialMT-109\"/>\n     </g>\n    </g>\n   </g>\n   <g id=\"patch_3\">\n    <path clip-path=\"url(#p56f846d291)\" d=\"M 104.011875 455.865276 \nL 302.245641 455.865276 \nL 302.245641 436.679393 \nL 104.011875 436.679393 \nz\n\" style=\"fill:#22a884;stroke:#ffffff;stroke-linejoin:miter;\"/>\n   </g>\n   <g id=\"patch_4\">\n    <path clip-path=\"url(#p56f846d291)\" d=\"M 104.011875 434.547629 \nL 335.907979 434.547629 \nL 335.907979 415.361746 \nL 104.011875 415.361746 \nz\n\" style=\"fill:#21a585;stroke:#ffffff;stroke-linejoin:miter;\"/>\n   </g>\n   <g id=\"patch_5\">\n    <path clip-path=\"url(#p56f846d291)\" d=\"M 104.011875 413.229982 \nL 337.778109 413.229982 \nL 337.778109 394.044099 \nL 104.011875 394.044099 \nz\n\" style=\"fill:#1fa187;stroke:#ffffff;stroke-linejoin:miter;\"/>\n   </g>\n   <g id=\"patch_6\">\n    <path clip-path=\"url(#p56f846d291)\" d=\"M 104.011875 391.912335 \nL 341.518369 391.912335 \nL 341.518369 372.726452 \nL 104.011875 372.726452 \nz\n\" style=\"fill:#1f9f88;stroke:#ffffff;stroke-linejoin:miter;\"/>\n   </g>\n   <g id=\"patch_7\">\n    <path clip-path=\"url(#p56f846d291)\" d=\"M 104.011875 370.594687 \nL 341.518369 370.594687 \nL 341.518369 351.408805 \nL 104.011875 351.408805 \nz\n\" style=\"fill:#1e9b8a;stroke:#ffffff;stroke-linejoin:miter;\"/>\n   </g>\n   <g id=\"patch_8\">\n    <path clip-path=\"url(#p56f846d291)\" d=\"M 104.011875 349.27704 \nL 345.258628 349.27704 \nL 345.258628 330.091158 \nL 104.011875 330.091158 \nz\n\" style=\"fill:#1f978b;stroke:#ffffff;stroke-linejoin:miter;\"/>\n   </g>\n   <g id=\"patch_9\">\n    <path clip-path=\"url(#p56f846d291)\" d=\"M 104.011875 327.959393 \nL 352.739148 327.959393 \nL 352.739148 308.773511 \nL 104.011875 308.773511 \nz\n\" style=\"fill:#1f948c;stroke:#ffffff;stroke-linejoin:miter;\"/>\n   </g>\n   <g id=\"patch_10\">\n    <path clip-path=\"url(#p56f846d291)\" d=\"M 104.011875 306.641746 \nL 369.570317 306.641746 \nL 369.570317 287.455864 \nL 104.011875 287.455864 \nz\n\" style=\"fill:#21918c;stroke:#ffffff;stroke-linejoin:miter;\"/>\n   </g>\n   <g id=\"patch_11\">\n    <path clip-path=\"url(#p56f846d291)\" d=\"M 104.011875 285.324099 \nL 371.440446 285.324099 \nL 371.440446 266.138217 \nL 104.011875 266.138217 \nz\n\" style=\"fill:#218e8d;stroke:#ffffff;stroke-linejoin:miter;\"/>\n   </g>\n   <g id=\"patch_12\">\n    <path clip-path=\"url(#p56f846d291)\" d=\"M 104.011875 264.006452 \nL 438.765122 264.006452 \nL 438.765122 244.82057 \nL 104.011875 244.82057 \nz\n\" style=\"fill:#238a8d;stroke:#ffffff;stroke-linejoin:miter;\"/>\n   </g>\n   <g id=\"patch_13\">\n    <path clip-path=\"url(#p56f846d291)\" d=\"M 104.011875 242.688805 \nL 442.505381 242.688805 \nL 442.505381 223.502923 \nL 104.011875 223.502923 \nz\n\" style=\"fill:#24878e;stroke:#ffffff;stroke-linejoin:miter;\"/>\n   </g>\n   <g id=\"patch_14\">\n    <path clip-path=\"url(#p56f846d291)\" d=\"M 104.011875 221.371158 \nL 463.07681 221.371158 \nL 463.07681 202.185276 \nL 104.011875 202.185276 \nz\n\" style=\"fill:#25838e;stroke:#ffffff;stroke-linejoin:miter;\"/>\n   </g>\n   <g id=\"patch_15\">\n    <path clip-path=\"url(#p56f846d291)\" d=\"M 104.011875 200.053511 \nL 478.037849 200.053511 \nL 478.037849 180.867629 \nL 104.011875 180.867629 \nz\n\" style=\"fill:#26818e;stroke:#ffffff;stroke-linejoin:miter;\"/>\n   </g>\n   <g id=\"patch_16\">\n    <path clip-path=\"url(#p56f846d291)\" d=\"M 104.011875 178.735864 \nL 481.778109 178.735864 \nL 481.778109 159.549982 \nL 104.011875 159.549982 \nz\n\" style=\"fill:#287d8e;stroke:#ffffff;stroke-linejoin:miter;\"/>\n   </g>\n   <g id=\"patch_17\">\n    <path clip-path=\"url(#p56f846d291)\" d=\"M 104.011875 157.418217 \nL 511.700187 157.418217 \nL 511.700187 138.232335 \nL 104.011875 138.232335 \nz\n\" style=\"fill:#297a8e;stroke:#ffffff;stroke-linejoin:miter;\"/>\n   </g>\n   <g id=\"patch_18\">\n    <path clip-path=\"url(#p56f846d291)\" d=\"M 104.011875 136.10057 \nL 519.180706 136.10057 \nL 519.180706 116.914687 \nL 104.011875 116.914687 \nz\n\" style=\"fill:#2a768e;stroke:#ffffff;stroke-linejoin:miter;\"/>\n   </g>\n   <g id=\"patch_19\">\n    <path clip-path=\"url(#p56f846d291)\" d=\"M 104.011875 114.782923 \nL 549.102784 114.782923 \nL 549.102784 95.59704 \nL 104.011875 95.59704 \nz\n\" style=\"fill:#2c738e;stroke:#ffffff;stroke-linejoin:miter;\"/>\n   </g>\n   <g id=\"patch_20\">\n    <path clip-path=\"url(#p56f846d291)\" d=\"M 104.011875 93.465276 \nL 650.089797 93.465276 \nL 650.089797 74.279393 \nL 104.011875 74.279393 \nz\n\" style=\"fill:#2d708e;stroke:#ffffff;stroke-linejoin:miter;\"/>\n   </g>\n   <g id=\"patch_21\">\n    <path clip-path=\"url(#p56f846d291)\" d=\"M 104.011875 72.147629 \nL 681.882005 72.147629 \nL 681.882005 52.961746 \nL 104.011875 52.961746 \nz\n\" style=\"fill:#2e6d8e;stroke:#ffffff;stroke-linejoin:miter;\"/>\n   </g>\n   <g id=\"patch_22\">\n    <path clip-path=\"url(#p56f846d291)\" d=\"M 104.011875 50.829982 \nL 741.726161 50.829982 \nL 741.726161 31.644099 \nL 104.011875 31.644099 \nz\n\" style=\"fill:#30698e;stroke:#ffffff;stroke-linejoin:miter;\"/>\n   </g>\n   <g id=\"patch_23\">\n    <path d=\"M 104.011875 461.194687 \nL 104.011875 26.314687 \n\" style=\"fill:none;stroke:#ffffff;stroke-linecap:square;stroke-linejoin:miter;stroke-width:1.25;\"/>\n   </g>\n   <g id=\"patch_24\">\n    <path d=\"M 773.611875 461.194687 \nL 773.611875 26.314687 \n\" style=\"fill:none;stroke:#ffffff;stroke-linecap:square;stroke-linejoin:miter;stroke-width:1.25;\"/>\n   </g>\n   <g id=\"patch_25\">\n    <path d=\"M 104.011875 461.194687 \nL 773.611875 461.194687 \n\" style=\"fill:none;stroke:#ffffff;stroke-linecap:square;stroke-linejoin:miter;stroke-width:1.25;\"/>\n   </g>\n   <g id=\"patch_26\">\n    <path d=\"M 104.011875 26.314687 \nL 773.611875 26.314687 \n\" style=\"fill:none;stroke:#ffffff;stroke-linecap:square;stroke-linejoin:miter;stroke-width:1.25;\"/>\n   </g>\n   <g id=\"text_31\">\n    <!-- 20 Most Frequently Occurring Bigrams -->\n    <defs>\n     <path d=\"M 7.421875 0 \nL 7.421875 71.578125 \nL 21.6875 71.578125 \nL 38.625 20.90625 \nQ 40.96875 13.8125 42.046875 10.296875 \nQ 43.265625 14.203125 45.84375 21.78125 \nL 62.984375 71.578125 \nL 75.734375 71.578125 \nL 75.734375 0 \nL 66.609375 0 \nL 66.609375 59.90625 \nL 45.796875 0 \nL 37.25 0 \nL 16.546875 60.9375 \nL 16.546875 0 \nz\n\" id=\"ArialMT-77\"/>\n     <path d=\"M 8.203125 0 \nL 8.203125 71.578125 \nL 56.5 71.578125 \nL 56.5 63.140625 \nL 17.671875 63.140625 \nL 17.671875 40.96875 \nL 51.265625 40.96875 \nL 51.265625 32.515625 \nL 17.671875 32.515625 \nL 17.671875 0 \nz\n\" id=\"ArialMT-70\"/>\n     <path d=\"M 39.65625 -19.875 \nL 39.65625 5.515625 \nQ 37.59375 2.640625 33.90625 0.734375 \nQ 30.21875 -1.171875 26.078125 -1.171875 \nQ 16.84375 -1.171875 10.171875 6.203125 \nQ 3.515625 13.578125 3.515625 26.421875 \nQ 3.515625 34.234375 6.21875 40.421875 \nQ 8.9375 46.625 14.078125 49.828125 \nQ 19.234375 53.03125 25.390625 53.03125 \nQ 35.015625 53.03125 40.53125 44.921875 \nL 40.53125 51.859375 \nL 48.4375 51.859375 \nL 48.4375 -19.875 \nz\nM 12.546875 26.078125 \nQ 12.546875 16.0625 16.75 11.0625 \nQ 20.953125 6.0625 26.8125 6.0625 \nQ 32.421875 6.0625 36.46875 10.8125 \nQ 40.53125 15.578125 40.53125 25.296875 \nQ 40.53125 35.640625 36.25 40.859375 \nQ 31.984375 46.09375 26.21875 46.09375 \nQ 20.515625 46.09375 16.53125 41.234375 \nQ 12.546875 36.375 12.546875 26.078125 \nz\n\" id=\"ArialMT-113\"/>\n    </defs>\n    <g style=\"fill:#262626;\" transform=\"translate(284.767031 20.314687)scale(0.18 -0.18)\">\n     <use xlink:href=\"#ArialMT-50\"/>\n     <use x=\"55.615234\" xlink:href=\"#ArialMT-48\"/>\n     <use x=\"111.230469\" xlink:href=\"#ArialMT-32\"/>\n     <use x=\"139.013672\" xlink:href=\"#ArialMT-77\"/>\n     <use x=\"222.314453\" xlink:href=\"#ArialMT-111\"/>\n     <use x=\"277.929688\" xlink:href=\"#ArialMT-115\"/>\n     <use x=\"327.929688\" xlink:href=\"#ArialMT-116\"/>\n     <use x=\"355.712891\" xlink:href=\"#ArialMT-32\"/>\n     <use x=\"383.496094\" xlink:href=\"#ArialMT-70\"/>\n     <use x=\"444.580078\" xlink:href=\"#ArialMT-114\"/>\n     <use x=\"477.880859\" xlink:href=\"#ArialMT-101\"/>\n     <use x=\"533.496094\" xlink:href=\"#ArialMT-113\"/>\n     <use x=\"589.111328\" xlink:href=\"#ArialMT-117\"/>\n     <use x=\"644.726562\" xlink:href=\"#ArialMT-101\"/>\n     <use x=\"700.341797\" xlink:href=\"#ArialMT-110\"/>\n     <use x=\"755.957031\" xlink:href=\"#ArialMT-116\"/>\n     <use x=\"783.740234\" xlink:href=\"#ArialMT-108\"/>\n     <use x=\"805.957031\" xlink:href=\"#ArialMT-121\"/>\n     <use x=\"855.957031\" xlink:href=\"#ArialMT-32\"/>\n     <use x=\"883.740234\" xlink:href=\"#ArialMT-79\"/>\n     <use x=\"961.523438\" xlink:href=\"#ArialMT-99\"/>\n     <use x=\"1011.523438\" xlink:href=\"#ArialMT-99\"/>\n     <use x=\"1061.523438\" xlink:href=\"#ArialMT-117\"/>\n     <use x=\"1117.138672\" xlink:href=\"#ArialMT-114\"/>\n     <use x=\"1150.439453\" xlink:href=\"#ArialMT-114\"/>\n     <use x=\"1183.740234\" xlink:href=\"#ArialMT-105\"/>\n     <use x=\"1205.957031\" xlink:href=\"#ArialMT-110\"/>\n     <use x=\"1261.572266\" xlink:href=\"#ArialMT-103\"/>\n     <use x=\"1317.1875\" xlink:href=\"#ArialMT-32\"/>\n     <use x=\"1344.970703\" xlink:href=\"#ArialMT-66\"/>\n     <use x=\"1411.669922\" xlink:href=\"#ArialMT-105\"/>\n     <use x=\"1433.886719\" xlink:href=\"#ArialMT-103\"/>\n     <use x=\"1489.501953\" xlink:href=\"#ArialMT-114\"/>\n     <use x=\"1522.802734\" xlink:href=\"#ArialMT-97\"/>\n     <use x=\"1578.417969\" xlink:href=\"#ArialMT-109\"/>\n     <use x=\"1661.71875\" xlink:href=\"#ArialMT-115\"/>\n    </g>\n   </g>\n  </g>\n </g>\n <defs>\n  <clipPath id=\"p56f846d291\">\n   <rect height=\"434.88\" width=\"669.6\" x=\"104.011875\" y=\"26.314687\"/>\n  </clipPath>\n </defs>\n</svg>\n",
      "image/png": "[encoded data removed]"
     },
     "metadata": {
      "needs_background": "light"
     }
    }
   ],
   "source": [
    "bigrams_series.sort_values().plot.barh(color=cm.viridis_r(np.linspace(.4,.8, 30)), width=.9, figsize=(12, 8))\n",
    "plt.title('20 Most Frequently Occurring Bigrams', fontsize=18)\n",
    "plt.ylabel('Bigram', fontsize=18)\n",
    "plt.xlabel('Number of Occurances', fontsize=18)"
   ]
  },
  {
   "source": [
    "## Stretch Goal: Visualizing Top Bigram Score"
   ],
   "cell_type": "markdown",
   "metadata": {}
  },
  {
   "source": [
    "### Converting list to DF we can censor the bigrams"
   ],
   "cell_type": "markdown",
   "metadata": {}
  },
  {
   "cell_type": "code",
   "execution_count": 135,
   "metadata": {},
   "outputs": [],
   "source": [
    "bigrams_df = pd.DataFrame(bigrams_list,columns=['bigram', 'pmi_score'])"
   ]
  },
  {
   "cell_type": "code",
   "execution_count": 136,
   "metadata": {},
   "outputs": [
    {
     "output_type": "execute_result",
     "data": {
      "text/plain": [
       "                  bigram  pmi_score\n",
       "0         (wishy, washy)  14.922971\n",
       "1            (dej, loaf)  14.700579\n",
       "2    (disrupts, shylock)  14.700579\n",
       "3  (operation, disrupts)  14.700579\n",
       "4     (shylock, banking)  14.700579"
      ],
      "text/html": "<div>\n<style scoped>\n    .dataframe tbody tr th:only-of-type {\n        vertical-align: middle;\n    }\n\n    .dataframe tbody tr th {\n        vertical-align: top;\n    }\n\n    .dataframe thead th {\n        text-align: right;\n    }\n</style>\n<table border=\"1\" class=\"dataframe\">\n  <thead>\n    <tr style=\"text-align: right;\">\n      <th></th>\n      <th>bigram</th>\n      <th>pmi_score</th>\n    </tr>\n  </thead>\n  <tbody>\n    <tr>\n      <th>0</th>\n      <td>(wishy, washy)</td>\n      <td>14.922971</td>\n    </tr>\n    <tr>\n      <th>1</th>\n      <td>(dej, loaf)</td>\n      <td>14.700579</td>\n    </tr>\n    <tr>\n      <th>2</th>\n      <td>(disrupts, shylock)</td>\n      <td>14.700579</td>\n    </tr>\n    <tr>\n      <th>3</th>\n      <td>(operation, disrupts)</td>\n      <td>14.700579</td>\n    </tr>\n    <tr>\n      <th>4</th>\n      <td>(shylock, banking)</td>\n      <td>14.700579</td>\n    </tr>\n  </tbody>\n</table>\n</div>"
     },
     "metadata": {},
     "execution_count": 136
    }
   ],
   "source": [
    "bigrams_df.head()"
   ]
  },
  {
   "source": [],
   "cell_type": "markdown",
   "metadata": {}
  }
 ]
}